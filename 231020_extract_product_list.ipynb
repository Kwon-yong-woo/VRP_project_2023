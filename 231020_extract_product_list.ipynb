{
 "cells": [
  {
   "cell_type": "code",
   "execution_count": 1,
   "id": "68bf69cb",
   "metadata": {},
   "outputs": [
    {
     "name": "stderr",
     "output_type": "stream",
     "text": [
      "C:\\Users\\Public\\Documents\\ESTsoft\\CreatorTemp\\ipykernel_1548\\2444131415.py:9: DeprecationWarning: Importing display from IPython.core.display is deprecated since IPython 7.14, please import from IPython display\n",
      "  from IPython.core.display import display, HTML\n"
     ]
    }
   ],
   "source": [
    "import numpy as np\n",
    "import pandas as pd\n",
    "import re\n",
    "import json\n",
    "import time\n",
    "import os\n",
    "\n",
    "from IPython.display import display\n",
    "from IPython.core.display import display, HTML\n",
    "from tqdm.notebook import tqdm\n",
    "from collections import Counter\n",
    "\n",
    "import datetime"
   ]
  },
  {
   "cell_type": "code",
   "execution_count": 2,
   "id": "80108e1c",
   "metadata": {},
   "outputs": [],
   "source": [
    "di_list = [2012,2013,2014,2015,2016,2017,2018,2019,2020,2021,2022]\n",
    "Path_ = r\"C:\\Users\\Samsung\\Desktop\\all\\Project\\23_VRPTW\\Data\\경기\\{}\""
   ]
  },
  {
   "cell_type": "markdown",
   "id": "7d5d1220",
   "metadata": {},
   "source": [
    "# check column's names"
   ]
  },
  {
   "cell_type": "code",
   "execution_count": 3,
   "id": "55fdabdb",
   "metadata": {},
   "outputs": [
    {
     "data": {
      "text/plain": [
       "[2012, 2013, 2014, 2015, 2016, 2017, 2018, 2019, 2020, 2021, 2022]"
      ]
     },
     "execution_count": 3,
     "metadata": {},
     "output_type": "execute_result"
    }
   ],
   "source": [
    "di_list"
   ]
  },
  {
   "cell_type": "code",
   "execution_count": 4,
   "id": "6e933540",
   "metadata": {},
   "outputs": [],
   "source": [
    "col_dic = {\n",
    "    2012:[[\"일자\",\"분류\",\"물품명\",\"수량\",\"단가\",\"금액\"],\n",
    "         [\"일자\",\"분류\",\"물품명\",\"수량\",\"단위\",\"금액\"]],\n",
    "    2013:[[\"일자\",\"분류\",\"물품명\",\"수량\",\"단가\",\"금액\"],\n",
    "          [\"일자\",\"분류\",\"물품명\",\"수량\",\"단위\",\"금액\"]],\n",
    "    2014:[[\"일자\",\"분류\",\"물품명\",\"수량\",\"단가\",\"금액\"],\n",
    "          [\"일자\",\"분류\",\"물품명\",\"수량\",\"장부단가\",\"금액\"]],\n",
    "    2015:[[\"일자\",\"분류\",\"물품명\",\"수량\",\"단가\",\"금액\"],\n",
    "          [\"일자\",\"분류\",\"물품명\",\"수량\",\"단위\",\"금액\"]],\n",
    "    2016:[[\"일자\",\"분류\",\"물품명\",\"수량\",\"단가\",\"금액\"],\n",
    "          [\"일자\",\"분류\",\"물품명\",\"수량\",\"단위\",\"금액\"]],\n",
    "    2017:[[\"일자\",\"분류\",\"물품명\",\"수량\",\"단가\",\"금액\"],\n",
    "          [\"일자\",\"분류\",\"물품명\",\"수량\",\"단위\",\"금액\"]],\n",
    "    2018:[[\"일자\",\"분류\",\"물품명\",\"수량\",\"단가\",\"금액\"],\n",
    "          [\"일자\",\"분류\",\"물품명\",\"수량\",\"단위\",\"금액\"]],\n",
    "    2019:[[\"일자\",\"분류\",\"물품명\",\"수량\",\"단가\",\"금액\"],\n",
    "          [\"일자\",\"분류\",\"물품명\",\"수량\",\"단위\",\"금액\"]],\n",
    "\n",
    "    2020:[[\"일자\",\"분류\",\"물품명\",\"수량\",\"금액\"],\n",
    "          [\"일자\",\"분류\",\"물품명\",\"수량\",\"금액\",\"이용자\"]],\n",
    "    2021:[[\"일자\",\"분류\",\"물품명\",\"수량\",\"금액\"],\n",
    "          [\"일자\",\"이용자\",\"분류\",\"물품명\",\"수량\",\"금액\"]],\n",
    "    2022:[[\"일자\",\"분류\",\"물품명\",\"수량\",\"금액\"],\n",
    "          [\"일자\",\"이용자\",\"분류\",\"물품명\",\"수량\",\"금액\"]]\n",
    "    \n",
    "}"
   ]
  },
  {
   "cell_type": "code",
   "execution_count": 5,
   "id": "c8fc6ab5",
   "metadata": {},
   "outputs": [],
   "source": [
    "eli_col = [\"기부자\",\"장부단가\",\"개인/단체\",\"이용자\"]"
   ]
  },
  {
   "cell_type": "code",
   "execution_count": 6,
   "id": "967f93ca",
   "metadata": {},
   "outputs": [],
   "source": [
    "def change_col(df_,col_dic,dic_,type_):\n",
    "    if type_ == \"supply\":\n",
    "        col_ori = list(df_.columns)\n",
    "        col_after = col_dic[dic_][0]\n",
    "        col_dic = {}\n",
    "        for i in range(len(col_ori)):\n",
    "            key_ = col_ori[i]\n",
    "            value_ = col_after[i]\n",
    "            col_dic[key_] = value_\n",
    "        df_ = df_.rename(columns=col_dic)\n",
    "    elif type_ == \"demand\":\n",
    "        col_ori = list(df_.columns)\n",
    "        col_after = col_dic[dic_][1]\n",
    "        col_dic = {}\n",
    "        for i in range(len(col_ori)):\n",
    "            key_ = col_ori[i]\n",
    "            value_ = col_after[i]\n",
    "            col_dic[key_] = value_\n",
    "        df_ = df_.rename(columns=col_dic)\n",
    "    return df_"
   ]
  },
  {
   "cell_type": "code",
   "execution_count": null,
   "id": "0b0b7758",
   "metadata": {},
   "outputs": [],
   "source": []
  },
  {
   "cell_type": "markdown",
   "id": "8687eee1",
   "metadata": {},
   "source": [
    "# Extract all 물품명"
   ]
  },
  {
   "cell_type": "code",
   "execution_count": 7,
   "id": "687fffef",
   "metadata": {},
   "outputs": [],
   "source": [
    "di_list = [2019,2020,2021,2022]"
   ]
  },
  {
   "cell_type": "code",
   "execution_count": 8,
   "id": "655f28a5",
   "metadata": {},
   "outputs": [],
   "source": [
    "save_path = r\"C:\\Users\\Samsung\\Desktop\\all\\Project\\23_VRPTW\\Data\\경기\\out\\{}.txt\""
   ]
  },
  {
   "cell_type": "code",
   "execution_count": 13,
   "id": "6e65d7e1",
   "metadata": {
    "scrolled": true
   },
   "outputs": [
    {
     "name": "stdout",
     "output_type": "stream",
     "text": [
      "2019\n"
     ]
    },
    {
     "data": {
      "application/vnd.jupyter.widget-view+json": {
       "model_id": "bce237444e20484ca8d7128972026b97",
       "version_major": 2,
       "version_minor": 0
      },
      "text/plain": [
       "  0%|          | 0/91 [00:00<?, ?it/s]"
      ]
     },
     "metadata": {},
     "output_type": "display_data"
    },
    {
     "name": "stdout",
     "output_type": "stream",
     "text": [
      "########################################\n",
      "2020\n"
     ]
    },
    {
     "data": {
      "application/vnd.jupyter.widget-view+json": {
       "model_id": "bddcfbb3ddd5462d8a1154a78ff23604",
       "version_major": 2,
       "version_minor": 0
      },
      "text/plain": [
       "  0%|          | 0/92 [00:00<?, ?it/s]"
      ]
     },
     "metadata": {},
     "output_type": "display_data"
    },
    {
     "name": "stdout",
     "output_type": "stream",
     "text": [
      "########################################\n",
      "2021\n"
     ]
    },
    {
     "data": {
      "application/vnd.jupyter.widget-view+json": {
       "model_id": "4ed251e0f15740f8bb1f507fa530608c",
       "version_major": 2,
       "version_minor": 0
      },
      "text/plain": [
       "  0%|          | 0/86 [00:00<?, ?it/s]"
      ]
     },
     "metadata": {},
     "output_type": "display_data"
    },
    {
     "name": "stdout",
     "output_type": "stream",
     "text": [
      "########################################\n",
      "2022\n"
     ]
    },
    {
     "data": {
      "application/vnd.jupyter.widget-view+json": {
       "model_id": "832f504c442b49b997b356dc852acb39",
       "version_major": 2,
       "version_minor": 0
      },
      "text/plain": [
       "  0%|          | 0/84 [00:00<?, ?it/s]"
      ]
     },
     "metadata": {},
     "output_type": "display_data"
    },
    {
     "name": "stdout",
     "output_type": "stream",
     "text": [
      "########################################\n"
     ]
    }
   ],
   "source": [
    "\n",
    "error_file = []\n",
    "for dic_ in di_list:\n",
    "    all_list = []\n",
    "    print(dic_)\n",
    "    path_ = Path_.format(dic_)\n",
    "    file_list = [i for i in os.listdir(path_) if \".xlsx\" in i ]\n",
    "    tq = tqdm(file_list)\n",
    "    for file_ in tq:\n",
    "        #print(file_)\n",
    "        path_file = path_ + \"\\\\\" + file_\n",
    "        try:\n",
    "            df_ = pd.ExcelFile(path_file)\n",
    "            df_s = pd.read_excel(path_file,sheet_name=df_.sheet_names[0])\n",
    "            df_d = pd.read_excel(path_file,sheet_name=df_.sheet_names[1])\n",
    "\n",
    "            for i in [\"접수센터\",\"인수센터\",\"센터\",\"기부자\",\"지역\",\"개인/단체\"]:\n",
    "                if i in df_s.columns:\n",
    "                    df_s  = df_s.drop(i,axis=1)\n",
    "                if i in df_d.columns:\n",
    "                    df_d = df_d.drop(i,axis=1)\n",
    "\n",
    "            df_s = change_col(df_s,col_dic,dic_,\"supply\")\n",
    "            df_d = change_col(df_d,col_dic,dic_,\"demand\")\n",
    "\n",
    "\n",
    "            for i in [\"기부자\",\"장부단가\",\"개인/단체\",\"이용자\"]:\n",
    "                if i in df_s.columns:\n",
    "                    df_s  = df_s.drop(i,axis=1)\n",
    "                if i in df_d.columns:\n",
    "                    df_d = df_d.drop(i,axis=1)\n",
    "\n",
    "            all_list.extend(list(df_s[\"물품명\"]))\n",
    "            all_list.extend(list(df_d[\"물품명\"]))\n",
    "        except:\n",
    "            error_file.append([dic_,file_])\n",
    "    print(\"#\"*40)\n",
    "    all_list = [str(i) for i in all_list ]\n",
    "    with open(save_path.format(dic_), 'w+') as fp:\n",
    "        fp.write(\"\\n\".join(all_list))\n",
    "        "
   ]
  },
  {
   "cell_type": "code",
   "execution_count": null,
   "id": "a6f40bc4",
   "metadata": {},
   "outputs": [],
   "source": []
  },
  {
   "cell_type": "code",
   "execution_count": null,
   "id": "fc1d7576",
   "metadata": {},
   "outputs": [],
   "source": []
  },
  {
   "cell_type": "code",
   "execution_count": null,
   "id": "33c12efd",
   "metadata": {},
   "outputs": [],
   "source": []
  },
  {
   "cell_type": "code",
   "execution_count": null,
   "id": "dfa184d0",
   "metadata": {},
   "outputs": [],
   "source": []
  }
 ],
 "metadata": {
  "kernelspec": {
   "display_name": "Python 3 (ipykernel)",
   "language": "python",
   "name": "python3"
  },
  "language_info": {
   "codemirror_mode": {
    "name": "ipython",
    "version": 3
   },
   "file_extension": ".py",
   "mimetype": "text/x-python",
   "name": "python",
   "nbconvert_exporter": "python",
   "pygments_lexer": "ipython3",
   "version": "3.11.3"
  }
 },
 "nbformat": 4,
 "nbformat_minor": 5
}
