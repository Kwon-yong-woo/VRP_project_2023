{
 "cells": [
  {
   "cell_type": "code",
   "execution_count": 1,
   "id": "f12ba278-3559-4ba0-85f5-d31795c6e703",
   "metadata": {
    "tags": []
   },
   "outputs": [],
   "source": [
    "\n",
    "import numpy as np\n",
    "import pandas as pd\n",
    "import re\n",
    "import json\n",
    "import time\n",
    "import os"
   ]
  },
  {
   "cell_type": "code",
   "execution_count": 2,
   "id": "03cb4601-1b0b-4b2b-acd8-d3559425cadd",
   "metadata": {
    "tags": []
   },
   "outputs": [
    {
     "data": {
      "text/plain": [
       "['2012.txt',\n",
       " '2013.txt',\n",
       " '2014.txt',\n",
       " '2015.txt',\n",
       " '2016.txt',\n",
       " '2017.txt',\n",
       " '2018.txt',\n",
       " '2019.txt',\n",
       " '2020.txt',\n",
       " '2021.txt',\n",
       " '2022.txt']"
      ]
     },
     "execution_count": 2,
     "metadata": {},
     "output_type": "execute_result"
    }
   ],
   "source": [
    "path_ = r\"C:\\Users\\USER\\Desktop\\All\\Project\\23_VRP\\Data\\경기\\out\"\n",
    "file_list = os.listdir(path_)\n",
    "file_list"
   ]
  },
  {
   "cell_type": "code",
   "execution_count": 3,
   "id": "c045049f-1fa2-487d-921d-16ab8376f6fa",
   "metadata": {
    "tags": []
   },
   "outputs": [],
   "source": [
    "all_list = []\n",
    "for file_ in file_list:\n",
    "    can = open(path_+\"\\\\\"+file_,\"r\")\n",
    "    data = can.read()\n",
    "    can_list = data.replace(\"\\n\",\"--,\").split(\"--,\")\n",
    "    all_list.extend(can_list)\n",
    "    can.close()"
   ]
  },
  {
   "cell_type": "code",
   "execution_count": 4,
   "id": "4d6c8ebb-81f1-4e5d-aedf-f34de962afa7",
   "metadata": {
    "tags": []
   },
   "outputs": [
    {
     "data": {
      "text/plain": [
       "32587745"
      ]
     },
     "execution_count": 4,
     "metadata": {},
     "output_type": "execute_result"
    }
   ],
   "source": [
    "len(all_list)"
   ]
  },
  {
   "cell_type": "code",
   "execution_count": 9,
   "id": "3953943f-b147-472d-9ae7-fdbd269d5d04",
   "metadata": {
    "tags": []
   },
   "outputs": [
    {
     "data": {
      "text/plain": [
       "28148"
      ]
     },
     "execution_count": 9,
     "metadata": {},
     "output_type": "execute_result"
    }
   ],
   "source": [
    "all_identity = list(set(all_list))\n",
    "len(all_identity)"
   ]
  },
  {
   "cell_type": "code",
   "execution_count": null,
   "id": "5c161093-b677-4882-8bb2-5595d4cfbe60",
   "metadata": {
    "tags": []
   },
   "outputs": [],
   "source": []
  },
  {
   "cell_type": "markdown",
   "id": "0a20e351-6f94-4fbe-8141-896f48c092b0",
   "metadata": {},
   "source": [
    "# Data Cleansing"
   ]
  },
  {
   "cell_type": "code",
   "execution_count": 10,
   "id": "49cfde6b-bbf7-4b12-89d5-1361baf475c0",
   "metadata": {
    "tags": []
   },
   "outputs": [],
   "source": [
    "def removal_spaces(text_):\n",
    "    return \" \".join(text_.split())"
   ]
  },
  {
   "cell_type": "code",
   "execution_count": 11,
   "id": "2d8ea448-1aa1-4b62-84c6-ea99574d31e2",
   "metadata": {
    "tags": []
   },
   "outputs": [],
   "source": [
    "\n",
    "#test_ = \"계란(30구)\"\n",
    "pattern = \"G\"\n",
    "def removal_1(test_,pattern):\n",
    "    reg = re.compile(r\"[0-9]+ *{}\".format(pattern))\n",
    "    text_list = reg.findall(test_)\n",
    "    for i in text_list:\n",
    "        test_ = test_.replace(i,\"\")\n",
    "    return test_"
   ]
  },
  {
   "cell_type": "code",
   "execution_count": 21,
   "id": "53148197-0c48-49c7-97bb-78bf6e8f1caf",
   "metadata": {
    "tags": []
   },
   "outputs": [],
   "source": [
    "data_1 = [removal_spaces(i) for i in all_identity]\n",
    "data_1 = [x.replace(\"/\",\"\") for x in data_1]\n",
    "data_1 = [x.lower() for x in data_1]\n",
    "\n",
    "data_1 = [removal_1(x,\"kg\") for x in data_1]\n",
    "data_1 = [removal_1(x,\"g\") for x in data_1]\n",
    "data_1 = [removal_1(x,\"ml\") for x in data_1]\n",
    "data_1 = [removal_1(x,\"pack\") for x in data_1]\n",
    "data_1 = [removal_1(x,\"pet\") for x in data_1]\n",
    "data_1 = [removal_1(x,\"ea\") for x in data_1]\n"
   ]
  },
  {
   "cell_type": "code",
   "execution_count": null,
   "id": "30f6b9dd-8cfc-4100-81b0-81cbf1529dee",
   "metadata": {},
   "outputs": [],
   "source": [
    "names = data_1.copy()\n",
    "with open(r'C:\\Users\\USER\\Desktop\\All\\Project\\23_VRP\\Data\\경기\\out\\all_list.txt', 'w') as fp:\n",
    "    for item in names:\n",
    "        # write each item on a new line\n",
    "        fp.write(\"%s\\n\" % item)\n",
    "    print('Done')"
   ]
  },
  {
   "cell_type": "code",
   "execution_count": 22,
   "id": "eabcfe9e-b8d7-4811-bbc0-73ddd059d85d",
   "metadata": {
    "tags": []
   },
   "outputs": [
    {
     "data": {
      "text/html": [
       "<div>\n",
       "<style scoped>\n",
       "    .dataframe tbody tr th:only-of-type {\n",
       "        vertical-align: middle;\n",
       "    }\n",
       "\n",
       "    .dataframe tbody tr th {\n",
       "        vertical-align: top;\n",
       "    }\n",
       "\n",
       "    .dataframe thead th {\n",
       "        text-align: right;\n",
       "    }\n",
       "</style>\n",
       "<table border=\"1\" class=\"dataframe\">\n",
       "  <thead>\n",
       "    <tr style=\"text-align: right;\">\n",
       "      <th></th>\n",
       "      <th>document</th>\n",
       "      <th>label</th>\n",
       "    </tr>\n",
       "  </thead>\n",
       "  <tbody>\n",
       "    <tr>\n",
       "      <th>0</th>\n",
       "      <td></td>\n",
       "      <td>0</td>\n",
       "    </tr>\n",
       "    <tr>\n",
       "      <th>1</th>\n",
       "      <td>완도 명가 다시마()</td>\n",
       "      <td>0</td>\n",
       "    </tr>\n",
       "    <tr>\n",
       "      <th>2</th>\n",
       "      <td>콜라개</td>\n",
       "      <td>0</td>\n",
       "    </tr>\n",
       "    <tr>\n",
       "      <th>3</th>\n",
       "      <td>한우사골(국내산 팩)</td>\n",
       "      <td>0</td>\n",
       "    </tr>\n",
       "    <tr>\n",
       "      <th>4</th>\n",
       "      <td>누룽지 100t</td>\n",
       "      <td>0</td>\n",
       "    </tr>\n",
       "  </tbody>\n",
       "</table>\n",
       "</div>"
      ],
      "text/plain": [
       "      document  label\n",
       "0                   0\n",
       "1  완도 명가 다시마()      0\n",
       "2          콜라개      0\n",
       "3  한우사골(국내산 팩)      0\n",
       "4     누룽지 100t      0"
      ]
     },
     "execution_count": 22,
     "metadata": {},
     "output_type": "execute_result"
    }
   ],
   "source": [
    "data_2 = [[i,0] for i in data_1]\n",
    "df_1 = pd.DataFrame(data_2,columns=[\"document\",\"label\"])\n",
    "df_1.head()"
   ]
  },
  {
   "cell_type": "code",
   "execution_count": null,
   "id": "52a15dd0-54c3-4224-9aad-7c8582177575",
   "metadata": {},
   "outputs": [],
   "source": []
  },
  {
   "cell_type": "code",
   "execution_count": null,
   "id": "bd1ccd13-6222-4a2f-ad02-883286b2d998",
   "metadata": {},
   "outputs": [],
   "source": []
  },
  {
   "cell_type": "code",
   "execution_count": 19,
   "id": "d0e5d204-f0d0-45c3-9755-a9eb169f4a55",
   "metadata": {
    "tags": []
   },
   "outputs": [
    {
     "data": {
      "text/html": [
       "<div>\n",
       "<style scoped>\n",
       "    .dataframe tbody tr th:only-of-type {\n",
       "        vertical-align: middle;\n",
       "    }\n",
       "\n",
       "    .dataframe tbody tr th {\n",
       "        vertical-align: top;\n",
       "    }\n",
       "\n",
       "    .dataframe thead th {\n",
       "        text-align: right;\n",
       "    }\n",
       "</style>\n",
       "<table border=\"1\" class=\"dataframe\">\n",
       "  <thead>\n",
       "    <tr style=\"text-align: right;\">\n",
       "      <th></th>\n",
       "      <th>document</th>\n",
       "    </tr>\n",
       "  </thead>\n",
       "  <tbody>\n",
       "    <tr>\n",
       "      <th>0</th>\n",
       "      <td></td>\n",
       "    </tr>\n",
       "    <tr>\n",
       "      <th>1</th>\n",
       "      <td>완도 명가 다시마()</td>\n",
       "    </tr>\n",
       "    <tr>\n",
       "      <th>2</th>\n",
       "      <td>콜라개</td>\n",
       "    </tr>\n",
       "    <tr>\n",
       "      <th>3</th>\n",
       "      <td>한우사골(국내산 팩)</td>\n",
       "    </tr>\n",
       "    <tr>\n",
       "      <th>4</th>\n",
       "      <td>누룽지 100t</td>\n",
       "    </tr>\n",
       "  </tbody>\n",
       "</table>\n",
       "</div>"
      ],
      "text/plain": [
       "      document\n",
       "0             \n",
       "1  완도 명가 다시마()\n",
       "2          콜라개\n",
       "3  한우사골(국내산 팩)\n",
       "4     누룽지 100t"
      ]
     },
     "execution_count": 19,
     "metadata": {},
     "output_type": "execute_result"
    }
   ],
   "source": []
  },
  {
   "cell_type": "code",
   "execution_count": 23,
   "id": "2d5a0953-965c-4e06-86d3-21748015c441",
   "metadata": {
    "tags": []
   },
   "outputs": [],
   "source": [
    "df_1.to_excel(r\"C:\\Users\\USER\\Desktop\\All\\Project\\23_VRP\\Data\\경기\\out\\all_list.xlsx\")"
   ]
  },
  {
   "cell_type": "code",
   "execution_count": null,
   "id": "8005d2d2-e795-4273-ae52-695d2689c055",
   "metadata": {},
   "outputs": [],
   "source": []
  },
  {
   "cell_type": "code",
   "execution_count": null,
   "id": "bb9c60cf-e812-41c1-95eb-df00a324de53",
   "metadata": {},
   "outputs": [],
   "source": []
  },
  {
   "cell_type": "code",
   "execution_count": null,
   "id": "f27766d2-727a-49f5-a663-a412db11efdc",
   "metadata": {},
   "outputs": [],
   "source": []
  }
 ],
 "metadata": {
  "kernelspec": {
   "display_name": "Python 3 (ipykernel)",
   "language": "python",
   "name": "python3"
  },
  "language_info": {
   "codemirror_mode": {
    "name": "ipython",
    "version": 3
   },
   "file_extension": ".py",
   "mimetype": "text/x-python",
   "name": "python",
   "nbconvert_exporter": "python",
   "pygments_lexer": "ipython3",
   "version": "3.11.5"
  }
 },
 "nbformat": 4,
 "nbformat_minor": 5
}
