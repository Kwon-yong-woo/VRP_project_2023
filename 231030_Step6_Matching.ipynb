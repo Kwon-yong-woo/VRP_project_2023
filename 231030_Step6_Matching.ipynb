{
 "cells": [
  {
   "cell_type": "code",
   "execution_count": 3,
   "id": "3fb58c30-a1a0-4bba-a6d1-37cfcb14df21",
   "metadata": {
    "tags": []
   },
   "outputs": [
    {
     "name": "stderr",
     "output_type": "stream",
     "text": [
      "C:\\Users\\USER\\AppData\\Local\\Temp\\ipykernel_17384\\2444131415.py:9: DeprecationWarning: Importing display from IPython.core.display is deprecated since IPython 7.14, please import from IPython display\n",
      "  from IPython.core.display import display, HTML\n"
     ]
    }
   ],
   "source": [
    "import numpy as np\n",
    "import pandas as pd\n",
    "import re\n",
    "import json\n",
    "import time\n",
    "import os\n",
    "\n",
    "from IPython.display import display\n",
    "from IPython.core.display import display, HTML\n",
    "from tqdm.notebook import tqdm\n",
    "from collections import Counter\n",
    "\n",
    "import datetime"
   ]
  },
  {
   "cell_type": "markdown",
   "id": "9e427b96-ea0c-41a5-956b-9668c033b1dc",
   "metadata": {},
   "source": [
    "# Load Dic"
   ]
  },
  {
   "cell_type": "code",
   "execution_count": 4,
   "id": "8d344fc9-b614-4152-9bf1-f9671b0ba226",
   "metadata": {
    "tags": []
   },
   "outputs": [
    {
     "data": {
      "text/html": [
       "<div>\n",
       "<style scoped>\n",
       "    .dataframe tbody tr th:only-of-type {\n",
       "        vertical-align: middle;\n",
       "    }\n",
       "\n",
       "    .dataframe tbody tr th {\n",
       "        vertical-align: top;\n",
       "    }\n",
       "\n",
       "    .dataframe thead th {\n",
       "        text-align: right;\n",
       "    }\n",
       "</style>\n",
       "<table border=\"1\" class=\"dataframe\">\n",
       "  <thead>\n",
       "    <tr style=\"text-align: right;\">\n",
       "      <th></th>\n",
       "      <th>Unnamed: 0</th>\n",
       "      <th>document</th>\n",
       "      <th>label</th>\n",
       "      <th>prob</th>\n",
       "    </tr>\n",
       "  </thead>\n",
       "  <tbody>\n",
       "    <tr>\n",
       "      <th>0</th>\n",
       "      <td>0</td>\n",
       "      <td>NaN</td>\n",
       "      <td>2</td>\n",
       "      <td>0.9985</td>\n",
       "    </tr>\n",
       "    <tr>\n",
       "      <th>1</th>\n",
       "      <td>1</td>\n",
       "      <td>완도 명가 다시마()</td>\n",
       "      <td>8</td>\n",
       "      <td>0.9995</td>\n",
       "    </tr>\n",
       "    <tr>\n",
       "      <th>2</th>\n",
       "      <td>2</td>\n",
       "      <td>콜라개</td>\n",
       "      <td>2</td>\n",
       "      <td>0.9964</td>\n",
       "    </tr>\n",
       "    <tr>\n",
       "      <th>3</th>\n",
       "      <td>3</td>\n",
       "      <td>한우사골(국내산 팩)</td>\n",
       "      <td>8</td>\n",
       "      <td>0.9994</td>\n",
       "    </tr>\n",
       "    <tr>\n",
       "      <th>4</th>\n",
       "      <td>4</td>\n",
       "      <td>누룽지 100t</td>\n",
       "      <td>8</td>\n",
       "      <td>0.9997</td>\n",
       "    </tr>\n",
       "  </tbody>\n",
       "</table>\n",
       "</div>"
      ],
      "text/plain": [
       "   Unnamed: 0     document  label    prob\n",
       "0           0          NaN      2  0.9985\n",
       "1           1  완도 명가 다시마()      8  0.9995\n",
       "2           2          콜라개      2  0.9964\n",
       "3           3  한우사골(국내산 팩)      8  0.9994\n",
       "4           4     누룽지 100t      8  0.9997"
      ]
     },
     "execution_count": 4,
     "metadata": {},
     "output_type": "execute_result"
    }
   ],
   "source": [
    "df_cate = pd.read_excel(r\"C:\\Users\\USER\\Desktop\\All\\Project\\23_VRP\\Data\\경기\\all_cate.xlsx\")\n",
    "df_cate.head()"
   ]
  },
  {
   "cell_type": "code",
   "execution_count": 5,
   "id": "76d11321-0a66-4441-add9-3da90d615d60",
   "metadata": {
    "tags": []
   },
   "outputs": [],
   "source": [
    "dic_1 = {1:\"대용식(빵)\",\n",
    "2:\"농산물\",\n",
    "3:\"유제품\",\n",
    "4:\"축산물\",\n",
    "5:\"수산물\",\n",
    "6:\"기타신선식품 / 냉장\",\n",
    "7:\"신선냉동식품\",\n",
    "8:\"가공식품 / 반찬\",\n",
    "9:\"냉동식품 / 냉동과자\",\n",
    "10:\"즉석/편의식품\",\n",
    "11:\"과자류\",\n",
    "12:\"주류\",\n",
    "13:\"음료류\",\n",
    "14:\"조미료\",\n",
    "15:\"분말류 / 차,커피\",\n",
    "16:\"통조림/병\",\n",
    "17:\"유아식품\",\n",
    "18:\"건강식품\",\n",
    "19:\"기름\",\n",
    "20:\"견과류\",\n",
    "0:\"곡물\"}\n",
    "\n"
   ]
  },
  {
   "cell_type": "code",
   "execution_count": 6,
   "id": "b3c036ce-c28d-424a-ac6c-db93000b7520",
   "metadata": {
    "tags": []
   },
   "outputs": [],
   "source": [
    "match_dic = {col[\"document\"]:dic_1[col[\"label\"]] for row,col in df_cate.iterrows()}"
   ]
  },
  {
   "cell_type": "code",
   "execution_count": null,
   "id": "1239d62e-e89d-4eb3-a048-7f5a9273b1f2",
   "metadata": {
    "tags": []
   },
   "outputs": [],
   "source": []
  },
  {
   "cell_type": "code",
   "execution_count": 7,
   "id": "3a00da4c-f8e3-4194-bc33-d23902e43f76",
   "metadata": {
    "tags": []
   },
   "outputs": [],
   "source": [
    "di_list = [2012,2013,2014,2015,2016,2017,2018,2019,2020,2021,2022]\n",
    "Path_ = r\"C:\\Users\\USER\\Desktop\\All\\Project\\23_VRP\\Data\\경기\\all\\{}\""
   ]
  },
  {
   "cell_type": "code",
   "execution_count": 8,
   "id": "c470fa43-704f-495f-b499-58a9c9527908",
   "metadata": {
    "tags": []
   },
   "outputs": [],
   "source": [
    "col_dic = {\n",
    "    2012:[[\"일자\",\"분류\",\"물품명\",\"수량\",\"단가\",\"금액\"],\n",
    "         [\"일자\",\"분류\",\"물품명\",\"수량\",\"단위\",\"금액\"]],\n",
    "    2013:[[\"일자\",\"분류\",\"물품명\",\"수량\",\"단가\",\"금액\"],\n",
    "          [\"일자\",\"분류\",\"물품명\",\"수량\",\"단위\",\"금액\"]],\n",
    "    2014:[[\"일자\",\"분류\",\"물품명\",\"수량\",\"단가\",\"금액\"],\n",
    "          [\"일자\",\"분류\",\"물품명\",\"수량\",\"장부단가\",\"금액\"]],\n",
    "    2015:[[\"일자\",\"분류\",\"물품명\",\"수량\",\"단가\",\"금액\"],\n",
    "          [\"일자\",\"분류\",\"물품명\",\"수량\",\"단위\",\"금액\"]],\n",
    "    2016:[[\"일자\",\"분류\",\"물품명\",\"수량\",\"단가\",\"금액\"],\n",
    "          [\"일자\",\"분류\",\"물품명\",\"수량\",\"단위\",\"금액\"]],\n",
    "    2017:[[\"일자\",\"분류\",\"물품명\",\"수량\",\"단가\",\"금액\"],\n",
    "          [\"일자\",\"분류\",\"물품명\",\"수량\",\"단위\",\"금액\"]],\n",
    "    2018:[[\"일자\",\"분류\",\"물품명\",\"수량\",\"단가\",\"금액\"],\n",
    "          [\"일자\",\"분류\",\"물품명\",\"수량\",\"단위\",\"금액\"]],\n",
    "    2019:[[\"일자\",\"분류\",\"물품명\",\"수량\",\"단가\",\"금액\"],\n",
    "          [\"일자\",\"분류\",\"물품명\",\"수량\",\"단위\",\"금액\"]],\n",
    "\n",
    "    2020:[[\"일자\",\"분류\",\"물품명\",\"수량\",\"금액\"],\n",
    "          [\"일자\",\"분류\",\"물품명\",\"수량\",\"금액\",\"이용자\"]],\n",
    "    2021:[[\"일자\",\"분류\",\"물품명\",\"수량\",\"금액\"],\n",
    "          [\"일자\",\"이용자\",\"분류\",\"물품명\",\"수량\",\"금액\"]],\n",
    "    2022:[[\"일자\",\"분류\",\"물품명\",\"수량\",\"금액\"],\n",
    "          [\"일자\",\"이용자\",\"분류\",\"물품명\",\"수량\",\"금액\"]]\n",
    "    \n",
    "}"
   ]
  },
  {
   "cell_type": "code",
   "execution_count": 9,
   "id": "14fa3171-572f-484d-9047-65165fad10d8",
   "metadata": {
    "tags": []
   },
   "outputs": [],
   "source": [
    "eli_col = [\"기부자\",\"장부단가\",\"개인/단체\",\"이용자\"]"
   ]
  },
  {
   "cell_type": "code",
   "execution_count": 10,
   "id": "964adb42-c2fd-471f-8576-3d9af8a77f55",
   "metadata": {
    "tags": []
   },
   "outputs": [],
   "source": [
    "def change_col(df_,col_dic,dic_,type_):\n",
    "    if type_ == \"supply\":\n",
    "        col_ori = list(df_.columns)\n",
    "        col_after = col_dic[dic_][0]\n",
    "        col_dic = {}\n",
    "        for i in range(len(col_ori)):\n",
    "            key_ = col_ori[i]\n",
    "            value_ = col_after[i]\n",
    "            col_dic[key_] = value_\n",
    "        df_ = df_.rename(columns=col_dic)\n",
    "    elif type_ == \"demand\":\n",
    "        col_ori = list(df_.columns)\n",
    "        col_after = col_dic[dic_][1]\n",
    "        col_dic = {}\n",
    "        for i in range(len(col_ori)):\n",
    "            key_ = col_ori[i]\n",
    "            value_ = col_after[i]\n",
    "            col_dic[key_] = value_\n",
    "        df_ = df_.rename(columns=col_dic)\n",
    "    return df_"
   ]
  },
  {
   "cell_type": "code",
   "execution_count": null,
   "id": "f3e0a1cc-1988-44df-a7f5-481916a69ac9",
   "metadata": {},
   "outputs": [],
   "source": []
  },
  {
   "cell_type": "code",
   "execution_count": 11,
   "id": "ee0da046-ccb8-4e84-b869-90d4bb68b12e",
   "metadata": {
    "tags": []
   },
   "outputs": [],
   "source": [
    "def removal_spaces(text_):\n",
    "    return \" \".join(text_.split())"
   ]
  },
  {
   "cell_type": "code",
   "execution_count": 12,
   "id": "fd5dcc49-f24e-4900-b9ac-05087a3eded8",
   "metadata": {
    "tags": []
   },
   "outputs": [],
   "source": [
    "def removal_1(test_,pattern):\n",
    "    reg = re.compile(r\"[0-9]+ *{}\".format(pattern))\n",
    "    text_list = reg.findall(test_)\n",
    "    for i in text_list:\n",
    "        test_ = test_.replace(i,\"\")\n",
    "    return test_"
   ]
  },
  {
   "cell_type": "code",
   "execution_count": null,
   "id": "f043b85e-76e4-4b57-896d-be613223ed4d",
   "metadata": {},
   "outputs": [],
   "source": []
  },
  {
   "cell_type": "code",
   "execution_count": 13,
   "id": "efec68db-1da3-4dc9-9dfc-9aa8caf5bdc5",
   "metadata": {
    "tags": []
   },
   "outputs": [],
   "source": [
    "def cleansing(all_identity):\n",
    "    data_1 = [removal_spaces(i) for i in all_identity]\n",
    "    data_1 = [x.replace(\"/\",\"\") for x in data_1]\n",
    "    data_1 = [x.lower() for x in data_1]\n",
    "    data_1 = [removal_1(x,\"kg\") for x in data_1]\n",
    "    data_1 = [removal_1(x,\"g\") for x in data_1]\n",
    "    data_1 = [removal_1(x,\"ml\") for x in data_1]\n",
    "    data_1 = [removal_1(x,\"pack\") for x in data_1]\n",
    "    data_1 = [removal_1(x,\"pet\") for x in data_1]\n",
    "    data_1 = [removal_1(x,\"ea\") for x in data_1]\n",
    "    return data_1\n"
   ]
  },
  {
   "cell_type": "code",
   "execution_count": null,
   "id": "f067ff24-aa4b-4c95-afd5-a25f6a9432ef",
   "metadata": {
    "tags": []
   },
   "outputs": [
    {
     "name": "stdout",
     "output_type": "stream",
     "text": [
      "2012\n"
     ]
    },
    {
     "data": {
      "application/vnd.jupyter.widget-view+json": {
       "model_id": "db52721677254b56a6270d0a1f24d7d8",
       "version_major": 2,
       "version_minor": 0
      },
      "text/plain": [
       "  0%|          | 0/74 [00:00<?, ?it/s]"
      ]
     },
     "metadata": {},
     "output_type": "display_data"
    },
    {
     "name": "stdout",
     "output_type": "stream",
     "text": [
      "########################################\n",
      "2013\n"
     ]
    },
    {
     "data": {
      "application/vnd.jupyter.widget-view+json": {
       "model_id": "5604115099f74a5bb5b8b65c769abe38",
       "version_major": 2,
       "version_minor": 0
      },
      "text/plain": [
       "  0%|          | 0/74 [00:00<?, ?it/s]"
      ]
     },
     "metadata": {},
     "output_type": "display_data"
    },
    {
     "name": "stdout",
     "output_type": "stream",
     "text": [
      "########################################\n",
      "2014\n"
     ]
    },
    {
     "data": {
      "application/vnd.jupyter.widget-view+json": {
       "model_id": "557725bd5b7540c1b6f72f30ef972b75",
       "version_major": 2,
       "version_minor": 0
      },
      "text/plain": [
       "  0%|          | 0/74 [00:00<?, ?it/s]"
      ]
     },
     "metadata": {},
     "output_type": "display_data"
    },
    {
     "name": "stdout",
     "output_type": "stream",
     "text": [
      "########################################\n",
      "2015\n"
     ]
    },
    {
     "data": {
      "application/vnd.jupyter.widget-view+json": {
       "model_id": "2d502cbcbe3b41f68058f51718e1a229",
       "version_major": 2,
       "version_minor": 0
      },
      "text/plain": [
       "  0%|          | 0/72 [00:00<?, ?it/s]"
      ]
     },
     "metadata": {},
     "output_type": "display_data"
    },
    {
     "name": "stdout",
     "output_type": "stream",
     "text": [
      "########################################\n",
      "2016\n"
     ]
    },
    {
     "data": {
      "application/vnd.jupyter.widget-view+json": {
       "model_id": "0d35b91f107b48cbbd0209cacf9c0e96",
       "version_major": 2,
       "version_minor": 0
      },
      "text/plain": [
       "  0%|          | 0/74 [00:00<?, ?it/s]"
      ]
     },
     "metadata": {},
     "output_type": "display_data"
    },
    {
     "name": "stdout",
     "output_type": "stream",
     "text": [
      "########################################\n",
      "2017\n"
     ]
    },
    {
     "data": {
      "application/vnd.jupyter.widget-view+json": {
       "model_id": "7946a38d3b224e059a10d02b59618011",
       "version_major": 2,
       "version_minor": 0
      },
      "text/plain": [
       "  0%|          | 0/75 [00:00<?, ?it/s]"
      ]
     },
     "metadata": {},
     "output_type": "display_data"
    },
    {
     "name": "stdout",
     "output_type": "stream",
     "text": [
      "########################################\n",
      "2018\n"
     ]
    },
    {
     "data": {
      "application/vnd.jupyter.widget-view+json": {
       "model_id": "e73c8a040e8c404faece04a2b570d44d",
       "version_major": 2,
       "version_minor": 0
      },
      "text/plain": [
       "  0%|          | 0/80 [00:00<?, ?it/s]"
      ]
     },
     "metadata": {},
     "output_type": "display_data"
    },
    {
     "name": "stdout",
     "output_type": "stream",
     "text": [
      "########################################\n",
      "2019\n"
     ]
    },
    {
     "data": {
      "application/vnd.jupyter.widget-view+json": {
       "model_id": "280c24f752ae4c878d80dc8e12ca4a8e",
       "version_major": 2,
       "version_minor": 0
      },
      "text/plain": [
       "  0%|          | 0/91 [00:00<?, ?it/s]"
      ]
     },
     "metadata": {},
     "output_type": "display_data"
    },
    {
     "name": "stdout",
     "output_type": "stream",
     "text": [
      "########################################\n",
      "2020\n"
     ]
    },
    {
     "data": {
      "application/vnd.jupyter.widget-view+json": {
       "model_id": "d533eba97ed94ba0855a2ec51007082d",
       "version_major": 2,
       "version_minor": 0
      },
      "text/plain": [
       "  0%|          | 0/92 [00:00<?, ?it/s]"
      ]
     },
     "metadata": {},
     "output_type": "display_data"
    }
   ],
   "source": [
    "error_file = []\n",
    "for year_ in di_list:\n",
    "    all_list = []\n",
    "    print(year_)\n",
    "    path_ = Path_.format(year_)\n",
    "    file_list = [i for i in os.listdir(path_) if \".xlsx\" in i ]\n",
    "    tq = tqdm(file_list)\n",
    "    df_sall = pd.DataFrame()\n",
    "    df_dall = pd.DataFrame()\n",
    "    for bank_p in tq:\n",
    "        #print(file_)\n",
    "        bank_ = bank_p.replace(\".xlsx\",\"\")\n",
    "        path_file = path_ + \"\\\\\" + bank_p\n",
    "        try:\n",
    "            df_ = pd.ExcelFile(path_file)\n",
    "            df_s = pd.read_excel(path_file,sheet_name=df_.sheet_names[0])\n",
    "            df_d = pd.read_excel(path_file,sheet_name=df_.sheet_names[1])\n",
    "\n",
    "            for i in [\"접수센터\",\"인수센터\",\"센터\",\"기부자\",\"지역\",\"개인/단체\"]:\n",
    "                if i in df_s.columns:\n",
    "                    df_s  = df_s.drop(i,axis=1)\n",
    "                if i in df_d.columns:\n",
    "                    df_d = df_d.drop(i,axis=1)\n",
    "\n",
    "\n",
    "\n",
    "            df_s = change_col(df_s,col_dic,year_,\"supply\")\n",
    "            df_d = change_col(df_d,col_dic,year_,\"demand\")\n",
    "\n",
    "\n",
    "            for i in [\"기부자\",\"장부단가\",\"개인/단체\",\"이용자\"]:\n",
    "                if i in df_s.columns:\n",
    "                    df_s  = df_s.drop(i,axis=1)\n",
    "                if i in df_d.columns:\n",
    "                    df_d = df_d.drop(i,axis=1)\n",
    "\n",
    "            ## cleansing\n",
    "            df_s[\"물품명\"] = cleansing(list(df_s[\"물품명\"]))\n",
    "            df_d[\"물품명\"] = cleansing(list(df_d[\"물품명\"]))\n",
    "            \n",
    "            ## matching\n",
    "            df_s[\"label\"] = [match_dic[col[\"물품명\"]]  for row,col in df_s.iterrows()]\n",
    "            df_d[\"label\"] = [match_dic[col[\"물품명\"]]  for row,col in df_d.iterrows()]\n",
    "\n",
    "            df_s[\"bank\"] = bank_\n",
    "            df_s[\"year\"] = year_\n",
    "\n",
    "            df_d[\"bank\"] = bank_\n",
    "            df_d[\"year\"] = year_\n",
    "\n",
    "            df_sall = pd.concat([df_sall,df_s])\n",
    "            df_dall = pd.concat([df_dall,df_d])\n",
    "\n",
    "        except:\n",
    "            error_file.append([year_,bank_p])\n",
    "    df_sall.to_csv(r\"C:\\Users\\USER\\Desktop\\All\\Project\\23_VRP\\Data\\경기\\all_2\\{}_supply.txt\".format(year_), sep = '\\t')\n",
    "    df_dall.to_csv(r\"C:\\Users\\USER\\Desktop\\All\\Project\\23_VRP\\Data\\경기\\all_2\\{}_demand.txt\".format(year_), sep = '\\t')\n",
    "    print(\"#\"*40)\n",
    "    "
   ]
  },
  {
   "cell_type": "code",
   "execution_count": null,
   "id": "2f0401d6-772a-4561-8c99-93896d5a5afa",
   "metadata": {},
   "outputs": [],
   "source": []
  },
  {
   "cell_type": "code",
   "execution_count": null,
   "id": "fb38c189-9f42-4e5c-98b1-6d6150aa068e",
   "metadata": {
    "tags": []
   },
   "outputs": [],
   "source": []
  },
  {
   "cell_type": "code",
   "execution_count": null,
   "id": "511f5b01-6b31-42b0-ab64-21df0847da57",
   "metadata": {},
   "outputs": [],
   "source": []
  },
  {
   "cell_type": "code",
   "execution_count": null,
   "id": "87d12a2a-fdec-4c5d-885d-fae6187b6faa",
   "metadata": {},
   "outputs": [],
   "source": []
  }
 ],
 "metadata": {
  "kernelspec": {
   "display_name": "Python 3 (ipykernel)",
   "language": "python",
   "name": "python3"
  },
  "language_info": {
   "codemirror_mode": {
    "name": "ipython",
    "version": 3
   },
   "file_extension": ".py",
   "mimetype": "text/x-python",
   "name": "python",
   "nbconvert_exporter": "python",
   "pygments_lexer": "ipython3",
   "version": "3.11.5"
  }
 },
 "nbformat": 4,
 "nbformat_minor": 5
}
