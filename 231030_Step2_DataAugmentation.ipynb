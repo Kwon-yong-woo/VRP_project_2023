{
 "cells": [
  {
   "cell_type": "code",
   "execution_count": 46,
   "id": "6236ae10-af97-4ff8-83b7-4822eb657823",
   "metadata": {
    "tags": []
   },
   "outputs": [],
   "source": [
    "import pandas as pd\n",
    "import numpy as np\n",
    "import re\n",
    "import random\n",
    "import nlpaug.augmenter.char as nac\n",
    "import nlpaug.augmenter.word as naw\n"
   ]
  },
  {
   "cell_type": "code",
   "execution_count": 2,
   "id": "806af67b-0d6f-4139-b5ed-cf44dd1e48d1",
   "metadata": {
    "tags": []
   },
   "outputs": [],
   "source": [
    "path_ = r\"C:\\Users\\USER\\Desktop\\All\\Project\\23_VRP\\Data\\경기\\version_2\""
   ]
  },
  {
   "cell_type": "code",
   "execution_count": 3,
   "id": "61e1b273-a7f1-457b-90c6-b86b175057c3",
   "metadata": {
    "tags": []
   },
   "outputs": [
    {
     "data": {
      "text/html": [
       "<div>\n",
       "<style scoped>\n",
       "    .dataframe tbody tr th:only-of-type {\n",
       "        vertical-align: middle;\n",
       "    }\n",
       "\n",
       "    .dataframe tbody tr th {\n",
       "        vertical-align: top;\n",
       "    }\n",
       "\n",
       "    .dataframe thead th {\n",
       "        text-align: right;\n",
       "    }\n",
       "</style>\n",
       "<table border=\"1\" class=\"dataframe\">\n",
       "  <thead>\n",
       "    <tr style=\"text-align: right;\">\n",
       "      <th></th>\n",
       "      <th>document</th>\n",
       "      <th>label</th>\n",
       "    </tr>\n",
       "  </thead>\n",
       "  <tbody>\n",
       "    <tr>\n",
       "      <th>0</th>\n",
       "      <td>찰기장</td>\n",
       "      <td>2</td>\n",
       "    </tr>\n",
       "    <tr>\n",
       "      <th>1</th>\n",
       "      <td>vanilla raspberry cake kr (바닐라라즈베리케익)() 냉동</td>\n",
       "      <td>9</td>\n",
       "    </tr>\n",
       "    <tr>\n",
       "      <th>2</th>\n",
       "      <td>건아로니아</td>\n",
       "      <td>6</td>\n",
       "    </tr>\n",
       "    <tr>\n",
       "      <th>3</th>\n",
       "      <td>계란(30구)</td>\n",
       "      <td>4</td>\n",
       "    </tr>\n",
       "    <tr>\n",
       "      <th>4</th>\n",
       "      <td>니콜하우스 생과일주스</td>\n",
       "      <td>13</td>\n",
       "    </tr>\n",
       "    <tr>\n",
       "      <th>...</th>\n",
       "      <td>...</td>\n",
       "      <td>...</td>\n",
       "    </tr>\n",
       "    <tr>\n",
       "      <th>5243</th>\n",
       "      <td>희망나눔박스</td>\n",
       "      <td>8</td>\n",
       "    </tr>\n",
       "    <tr>\n",
       "      <th>5244</th>\n",
       "      <td>흰설탕</td>\n",
       "      <td>14</td>\n",
       "    </tr>\n",
       "    <tr>\n",
       "      <th>5245</th>\n",
       "      <td>흰우유, 서울우유</td>\n",
       "      <td>3</td>\n",
       "    </tr>\n",
       "    <tr>\n",
       "      <th>5246</th>\n",
       "      <td>흰우유개</td>\n",
       "      <td>3</td>\n",
       "    </tr>\n",
       "    <tr>\n",
       "      <th>5247</th>\n",
       "      <td>히비스커스허브티</td>\n",
       "      <td>15</td>\n",
       "    </tr>\n",
       "  </tbody>\n",
       "</table>\n",
       "<p>5248 rows × 2 columns</p>\n",
       "</div>"
      ],
      "text/plain": [
       "                                        document  label\n",
       "0                                           찰기장       2\n",
       "1     vanilla raspberry cake kr (바닐라라즈베리케익)() 냉동      9\n",
       "2                                          건아로니아      6\n",
       "3                                        계란(30구)      4\n",
       "4                                    니콜하우스 생과일주스     13\n",
       "...                                          ...    ...\n",
       "5243                                      희망나눔박스      8\n",
       "5244                                         흰설탕     14\n",
       "5245                                   흰우유, 서울우유      3\n",
       "5246                                        흰우유개      3\n",
       "5247                                   히비스커스허브티      15\n",
       "\n",
       "[5248 rows x 2 columns]"
      ]
     },
     "execution_count": 3,
     "metadata": {},
     "output_type": "execute_result"
    }
   ],
   "source": [
    "df_ = pd.read_excel(path_+r\"\\dataset_3.xlsx\")\n",
    "df_"
   ]
  },
  {
   "cell_type": "code",
   "execution_count": 53,
   "id": "95b33438-770b-4375-86d0-16b0a3b88d74",
   "metadata": {
    "tags": []
   },
   "outputs": [
    {
     "data": {
      "text/plain": [
       "11"
      ]
     },
     "execution_count": 53,
     "metadata": {},
     "output_type": "execute_result"
    }
   ],
   "source": [
    "tar_numb = random.randint(7,11)\n",
    "tar_numb"
   ]
  },
  {
   "cell_type": "code",
   "execution_count": 55,
   "id": "018977aa-39e5-47b5-89d8-bd167717225e",
   "metadata": {
    "tags": []
   },
   "outputs": [
    {
     "data": {
      "text/plain": [
       "11"
      ]
     },
     "execution_count": 55,
     "metadata": {},
     "output_type": "execute_result"
    }
   ],
   "source": [
    "tar_numb"
   ]
  },
  {
   "cell_type": "markdown",
   "id": "9d8de078-2b8b-482d-afb2-8dd0468a823f",
   "metadata": {},
   "source": [
    "# 10배 증강하자\n",
    "- 기준: 띄어쓰기\n",
    "- 기준: 오타"
   ]
  },
  {
   "cell_type": "code",
   "execution_count": 62,
   "id": "ee6a3c1f-538e-4ab8-bcc6-27d36fadacfc",
   "metadata": {
    "tags": []
   },
   "outputs": [
    {
     "data": {
      "text/plain": [
       "['계란 (30구) 희망 나눔박스',\n",
       " '계란 (30구) 희망 나눔박스',\n",
       " '계란 (30구) 희망나눔 박스',\n",
       " '계란 (30구) 희망나눔 박스',\n",
       " '계란 (30구) 희망 나눔박스',\n",
       " '계란 (30구) 희망나 눔박스',\n",
       " '계란 (30구) 희망나 눔박스',\n",
       " '계란 (30구) 희망 나눔박스',\n",
       " '계란 (30구) 희 망나눔박스',\n",
       " '계란 (30구) 희망나눔 박스']"
      ]
     },
     "execution_count": 62,
     "metadata": {},
     "output_type": "execute_result"
    }
   ],
   "source": [
    "test_ = \" 계란(30구) 희망나눔박스\"\n",
    "aug = naw.SplitAug()\n",
    "augmented_text = aug.augment(test_,n=10)\n",
    "augmented_text"
   ]
  },
  {
   "cell_type": "code",
   "execution_count": 63,
   "id": "88f1cfa4-d833-4a92-bb08-6739a668f85c",
   "metadata": {
    "tags": []
   },
   "outputs": [
    {
     "data": {
      "text/plain": [
       "['계란 (3O구) 희망나눔박스',\n",
       " '계란 (30구) 희망나눔박스',\n",
       " '계란 (39구) 희망나눔박스',\n",
       " '계란 (30구) 희망나눔박스',\n",
       " '계란 (30구) 희망나눔박스',\n",
       " '계란 (30구) 희망나눔박스',\n",
       " '계란 (30구) 희망나눔박스',\n",
       " '계란 (38구) 희망나눔박스',\n",
       " '계란 (3o구) 희망나눔박스',\n",
       " '계란 (3D구) 희망나눔박스']"
      ]
     },
     "execution_count": 63,
     "metadata": {},
     "output_type": "execute_result"
    }
   ],
   "source": [
    "aug = nac.OcrAug()\n",
    "aug_text = aug.augment(test_, n = 10)\n",
    "aug_text"
   ]
  },
  {
   "cell_type": "code",
   "execution_count": 81,
   "id": "43ccf748-6c71-48b6-900b-68c7b5508ff5",
   "metadata": {
    "tags": []
   },
   "outputs": [],
   "source": [
    "out_all = []\n",
    "for i in range(len(df_)):\n",
    "    ori_ = df_[\"document\"][i]\n",
    "    label_ = df_[\"label\"][i]\n",
    "    out_all.append([ori_,label_])\n",
    "    \n",
    "    aug1 = naw.SplitAug()\n",
    "    tar_num = random.randint(9,13)\n",
    "    tar_aug1 = aug1.augment(ori_,n=tar_num)\n",
    "    \n",
    "    aug2 = nac.OcrAug()\n",
    "    tar_num = random.randint(5,8)\n",
    "    tar_aug2 = aug2.augment(ori_, n=tar_num)\n",
    "    \n",
    "    all_aug = tar_aug1 + tar_aug2\n",
    "    out_ = [[i2,label_] for i2 in all_aug]\n",
    "    out_all.extend(out_)"
   ]
  },
  {
   "cell_type": "code",
   "execution_count": 82,
   "id": "b88c6e99-bc74-4d97-b22a-14244774cc12",
   "metadata": {
    "tags": []
   },
   "outputs": [
    {
     "data": {
      "text/plain": [
       "97115"
      ]
     },
     "execution_count": 82,
     "metadata": {},
     "output_type": "execute_result"
    }
   ],
   "source": [
    "len(out_all)"
   ]
  },
  {
   "cell_type": "code",
   "execution_count": 89,
   "id": "d69e8a61-13bd-4e69-adbf-13894f370f8d",
   "metadata": {
    "tags": []
   },
   "outputs": [
    {
     "data": {
      "text/html": [
       "<div>\n",
       "<style scoped>\n",
       "    .dataframe tbody tr th:only-of-type {\n",
       "        vertical-align: middle;\n",
       "    }\n",
       "\n",
       "    .dataframe tbody tr th {\n",
       "        vertical-align: top;\n",
       "    }\n",
       "\n",
       "    .dataframe thead th {\n",
       "        text-align: right;\n",
       "    }\n",
       "</style>\n",
       "<table border=\"1\" class=\"dataframe\">\n",
       "  <thead>\n",
       "    <tr style=\"text-align: right;\">\n",
       "      <th></th>\n",
       "      <th>document</th>\n",
       "      <th>label</th>\n",
       "    </tr>\n",
       "  </thead>\n",
       "  <tbody>\n",
       "    <tr>\n",
       "      <th>0</th>\n",
       "      <td>쟌슨빌 폴리시 킬바사</td>\n",
       "      <td>8</td>\n",
       "    </tr>\n",
       "    <tr>\n",
       "      <th>1</th>\n",
       "      <td>냉동밀떡</td>\n",
       "      <td>9</td>\n",
       "    </tr>\n",
       "    <tr>\n",
       "      <th>2</th>\n",
       "      <td>한우 사골곰탕</td>\n",
       "      <td>8</td>\n",
       "    </tr>\n",
       "    <tr>\n",
       "      <th>3</th>\n",
       "      <td>기타 김가루</td>\n",
       "      <td>8</td>\n",
       "    </tr>\n",
       "    <tr>\n",
       "      <th>4</th>\n",
       "      <td>롯데 제과 (주) 카스 타드 (* 24봉 )</td>\n",
       "      <td>11</td>\n",
       "    </tr>\n",
       "    <tr>\n",
       "      <th>...</th>\n",
       "      <td>...</td>\n",
       "      <td>...</td>\n",
       "    </tr>\n",
       "    <tr>\n",
       "      <th>97110</th>\n",
       "      <td>롯데2 졸음번 쩍껌 * 4입</td>\n",
       "      <td>11</td>\n",
       "    </tr>\n",
       "    <tr>\n",
       "      <th>97111</th>\n",
       "      <td>빵(파리)</td>\n",
       "      <td>1</td>\n",
       "    </tr>\n",
       "    <tr>\n",
       "      <th>97112</th>\n",
       "      <td>서울 신 선목장저지방우유</td>\n",
       "      <td>3</td>\n",
       "    </tr>\n",
       "    <tr>\n",
       "      <th>97113</th>\n",
       "      <td>계란지단</td>\n",
       "      <td>8</td>\n",
       "    </tr>\n",
       "    <tr>\n",
       "      <th>97114</th>\n",
       "      <td>대상 (주) 깔끔 한맛 종가집 김치</td>\n",
       "      <td>8</td>\n",
       "    </tr>\n",
       "  </tbody>\n",
       "</table>\n",
       "<p>97115 rows × 2 columns</p>\n",
       "</div>"
      ],
      "text/plain": [
       "                       document  label\n",
       "0                   쟌슨빌 폴리시 킬바사      8\n",
       "1                          냉동밀떡      9\n",
       "2                       한우 사골곰탕      8\n",
       "3                        기타 김가루      8\n",
       "4      롯데 제과 (주) 카스 타드 (* 24봉 )     11\n",
       "...                         ...    ...\n",
       "97110           롯데2 졸음번 쩍껌 * 4입     11\n",
       "97111                     빵(파리)      1\n",
       "97112             서울 신 선목장저지방우유      3\n",
       "97113                      계란지단      8\n",
       "97114       대상 (주) 깔끔 한맛 종가집 김치      8\n",
       "\n",
       "[97115 rows x 2 columns]"
      ]
     },
     "execution_count": 89,
     "metadata": {},
     "output_type": "execute_result"
    }
   ],
   "source": [
    "df_out = pd.DataFrame(out_all,columns=[\"document\",\"label\"]).sample(frac=1).reset_index(drop=True)\n",
    "df_out"
   ]
  },
  {
   "cell_type": "code",
   "execution_count": 90,
   "id": "a96cf0df-127c-437b-8171-6d4460fabf4e",
   "metadata": {
    "tags": []
   },
   "outputs": [],
   "source": [
    "df_out.to_excel(r\"C:\\Users\\USER\\Desktop\\All\\Project\\23_VRP\\Data\\경기\\version_2\\dataset_4.xlsx\")"
   ]
  },
  {
   "cell_type": "code",
   "execution_count": null,
   "id": "3ee1df92-e293-40e5-8586-96acd6f15ec4",
   "metadata": {},
   "outputs": [],
   "source": []
  },
  {
   "cell_type": "code",
   "execution_count": null,
   "id": "c5d19eb6-a6d1-47f2-be79-a1d8397ee07a",
   "metadata": {},
   "outputs": [],
   "source": []
  },
  {
   "cell_type": "code",
   "execution_count": null,
   "id": "d6566cc8-8d10-440e-9b8b-1730206c6688",
   "metadata": {},
   "outputs": [],
   "source": []
  },
  {
   "cell_type": "code",
   "execution_count": null,
   "id": "79dd0b28-1227-49e0-a5f0-94f94cb86810",
   "metadata": {},
   "outputs": [],
   "source": []
  },
  {
   "cell_type": "code",
   "execution_count": null,
   "id": "20cbb05f-5d27-4cda-9795-6a1478466982",
   "metadata": {},
   "outputs": [],
   "source": []
  },
  {
   "cell_type": "code",
   "execution_count": null,
   "id": "db357699-999c-494b-beec-703cff31f873",
   "metadata": {},
   "outputs": [],
   "source": []
  },
  {
   "cell_type": "code",
   "execution_count": null,
   "id": "debc6f87-6c5b-4d55-9df9-4a2f4bbb9686",
   "metadata": {},
   "outputs": [],
   "source": []
  },
  {
   "cell_type": "code",
   "execution_count": null,
   "id": "3c90b6c0-dc9c-4d68-b7f9-3b9f7b576201",
   "metadata": {},
   "outputs": [],
   "source": []
  },
  {
   "cell_type": "code",
   "execution_count": null,
   "id": "89dc6389-b5a4-45b0-9968-54f95293deea",
   "metadata": {},
   "outputs": [],
   "source": []
  },
  {
   "cell_type": "code",
   "execution_count": null,
   "id": "704d6bbc-faea-4ef7-8638-a6d303db0b87",
   "metadata": {},
   "outputs": [],
   "source": []
  },
  {
   "cell_type": "code",
   "execution_count": null,
   "id": "b6f84ab2-3c73-4229-a619-fc47ba833de9",
   "metadata": {},
   "outputs": [],
   "source": []
  },
  {
   "cell_type": "code",
   "execution_count": null,
   "id": "f2a8adf2-ab4d-4be0-868a-80eb850cad63",
   "metadata": {},
   "outputs": [],
   "source": []
  }
 ],
 "metadata": {
  "kernelspec": {
   "display_name": "Python 3 (ipykernel)",
   "language": "python",
   "name": "python3"
  },
  "language_info": {
   "codemirror_mode": {
    "name": "ipython",
    "version": 3
   },
   "file_extension": ".py",
   "mimetype": "text/x-python",
   "name": "python",
   "nbconvert_exporter": "python",
   "pygments_lexer": "ipython3",
   "version": "3.11.5"
  }
 },
 "nbformat": 4,
 "nbformat_minor": 5
}
