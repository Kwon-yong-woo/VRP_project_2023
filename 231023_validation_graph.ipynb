{
 "cells": [
  {
   "cell_type": "code",
   "execution_count": 24,
   "id": "d807fb69",
   "metadata": {},
   "outputs": [],
   "source": [
    "import numpy as np\n",
    "import pandas as pd\n",
    "import os"
   ]
  },
  {
   "cell_type": "code",
   "execution_count": 25,
   "id": "8e41852f",
   "metadata": {},
   "outputs": [],
   "source": [
    "path_  = r\"C:\\Users\\Samsung\\Desktop\\all\\Project\\23_VRPTW\\etc\\validate_log\""
   ]
  },
  {
   "cell_type": "code",
   "execution_count": 29,
   "id": "2bf151d8",
   "metadata": {},
   "outputs": [
    {
     "data": {
      "text/plain": [
       "['validate_eee.txt',\n",
       " 'validate_eex.txt',\n",
       " 'validate_exe.txt',\n",
       " 'validate_exx.txt',\n",
       " 'validate_xee.txt']"
      ]
     },
     "execution_count": 29,
     "metadata": {},
     "output_type": "execute_result"
    }
   ],
   "source": [
    "file_list = os.listdir(path_)\n",
    "file_list"
   ]
  },
  {
   "cell_type": "code",
   "execution_count": 30,
   "id": "04db8243",
   "metadata": {
    "scrolled": true
   },
   "outputs": [
    {
     "name": "stdout",
     "output_type": "stream",
     "text": [
      "validate_eee.txt\n",
      "validate_eex.txt\n",
      "validate_exe.txt\n"
     ]
    },
    {
     "name": "stderr",
     "output_type": "stream",
     "text": [
      "C:\\Users\\Public\\Documents\\ESTsoft\\CreatorTemp\\ipykernel_27872\\2035093430.py:4: ParserWarning: Falling back to the 'python' engine because the 'c' engine does not support regex separators (separators > 1 char and different from '\\s+' are interpreted as regex); you can avoid this warning by specifying engine='python'.\n",
      "  data_ = pd.read_csv(path_+\"\\\\\"+test_,sep=\"\\\\n\",header=None)\n",
      "C:\\Users\\Public\\Documents\\ESTsoft\\CreatorTemp\\ipykernel_27872\\2035093430.py:4: ParserWarning: Falling back to the 'python' engine because the 'c' engine does not support regex separators (separators > 1 char and different from '\\s+' are interpreted as regex); you can avoid this warning by specifying engine='python'.\n",
      "  data_ = pd.read_csv(path_+\"\\\\\"+test_,sep=\"\\\\n\",header=None)\n",
      "C:\\Users\\Public\\Documents\\ESTsoft\\CreatorTemp\\ipykernel_27872\\2035093430.py:4: ParserWarning: Falling back to the 'python' engine because the 'c' engine does not support regex separators (separators > 1 char and different from '\\s+' are interpreted as regex); you can avoid this warning by specifying engine='python'.\n",
      "  data_ = pd.read_csv(path_+\"\\\\\"+test_,sep=\"\\\\n\",header=None)\n"
     ]
    },
    {
     "name": "stdout",
     "output_type": "stream",
     "text": [
      "validate_exx.txt\n",
      "validate_xee.txt\n"
     ]
    },
    {
     "name": "stderr",
     "output_type": "stream",
     "text": [
      "C:\\Users\\Public\\Documents\\ESTsoft\\CreatorTemp\\ipykernel_27872\\2035093430.py:4: ParserWarning: Falling back to the 'python' engine because the 'c' engine does not support regex separators (separators > 1 char and different from '\\s+' are interpreted as regex); you can avoid this warning by specifying engine='python'.\n",
      "  data_ = pd.read_csv(path_+\"\\\\\"+test_,sep=\"\\\\n\",header=None)\n",
      "C:\\Users\\Public\\Documents\\ESTsoft\\CreatorTemp\\ipykernel_27872\\2035093430.py:4: ParserWarning: Falling back to the 'python' engine because the 'c' engine does not support regex separators (separators > 1 char and different from '\\s+' are interpreted as regex); you can avoid this warning by specifying engine='python'.\n",
      "  data_ = pd.read_csv(path_+\"\\\\\"+test_,sep=\"\\\\n\",header=None)\n"
     ]
    }
   ],
   "source": [
    "test_ = file_list[0]\n",
    "for test_ in file_list:\n",
    "    print(test_)\n",
    "    data_ = pd.read_csv(path_+\"\\\\\"+test_,sep=\"\\\\n\",header=None)\n",
    "    data_[0] = data_[0].map(lambda x: eval(x))\n",
    "    all_list = []\n",
    "    for i in range(len(data_)):\n",
    "        can_ = data_[0][i]\n",
    "        can_ = [float(i2) for i2 in can_]\n",
    "        all_list.append(can_)\n",
    "    df = pd.DataFrame(all_list,columns=[\"total\",\"effective\",\"efficiency\",\"equity\"])\n",
    "    df.to_excel(path_+\"\\\\\"+test_.replace(\"txt\",\"xlsx\"))"
   ]
  },
  {
   "cell_type": "code",
   "execution_count": 17,
   "id": "1f80926b",
   "metadata": {},
   "outputs": [],
   "source": []
  },
  {
   "cell_type": "code",
   "execution_count": null,
   "id": "aab7969d",
   "metadata": {},
   "outputs": [],
   "source": []
  }
 ],
 "metadata": {
  "kernelspec": {
   "display_name": "Python 3 (ipykernel)",
   "language": "python",
   "name": "python3"
  },
  "language_info": {
   "codemirror_mode": {
    "name": "ipython",
    "version": 3
   },
   "file_extension": ".py",
   "mimetype": "text/x-python",
   "name": "python",
   "nbconvert_exporter": "python",
   "pygments_lexer": "ipython3",
   "version": "3.11.3"
  }
 },
 "nbformat": 4,
 "nbformat_minor": 5
}
