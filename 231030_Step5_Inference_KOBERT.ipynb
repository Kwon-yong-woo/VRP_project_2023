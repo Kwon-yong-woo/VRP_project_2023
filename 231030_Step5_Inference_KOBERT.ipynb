{
 "cells": [
  {
   "cell_type": "code",
   "execution_count": 380,
   "id": "4728bf3f-5d72-4800-8fd4-669e5cdadff2",
   "metadata": {
    "tags": []
   },
   "outputs": [],
   "source": [
    "import os\n",
    "import random\n",
    "import time\n",
    "import datetime\n",
    "import torch\n",
    "import argparse\n",
    "\n",
    "import pandas as pd\n",
    "import numpy as np\n",
    "\n",
    "from tqdm.notebook import tqdm"
   ]
  },
  {
   "cell_type": "code",
   "execution_count": 148,
   "id": "34d7731e-346a-421a-bba2-e2f4cc57862d",
   "metadata": {
    "tags": []
   },
   "outputs": [],
   "source": [
    "from transformers import BertTokenizer, BertForSequenceClassification, AdamW, get_linear_schedule_with_warmup, BertConfig\n",
    "from transformers import BertForTokenClassification\n",
    "from tensorflow.keras.preprocessing.sequence import pad_sequences\n",
    "from torch.utils.data import TensorDataset, DataLoader, RandomSampler, SequentialSampler\n",
    "\n",
    "from sklearn.model_selection import train_test_split\n",
    "from sklearn.metrics import accuracy_score"
   ]
  },
  {
   "cell_type": "code",
   "execution_count": 384,
   "id": "1d74e68f-5e03-4844-9b3e-61cae9402be8",
   "metadata": {
    "tags": []
   },
   "outputs": [],
   "source": [
    "parser = argparse.ArgumentParser()"
   ]
  },
  {
   "cell_type": "code",
   "execution_count": 385,
   "id": "e44ff593-9460-44cd-9d05-d0adf3748595",
   "metadata": {
    "tags": []
   },
   "outputs": [],
   "source": [
    "def load_data(args):\n",
    "    temp = pd.read_csv(args, sep=\"\\t\",encoding='cp949')\n",
    "    temp = temp\n",
    "    document = temp.document.tolist()\n",
    "    labels = temp.label.tolist()\n",
    "    return document,labels"
   ]
  },
  {
   "cell_type": "code",
   "execution_count": 386,
   "id": "007ddb67-172b-4f61-93fe-4b2a8d797b69",
   "metadata": {
    "tags": []
   },
   "outputs": [],
   "source": [
    "path_ = r\"C:\\Users\\USER\\Desktop\\All\\Project\\23_VRP\\Data\\경기\\out\\all_list.txt\""
   ]
  },
  {
   "cell_type": "code",
   "execution_count": 387,
   "id": "4a7bf7d5-74fb-4c11-8023-f330c9ebffcc",
   "metadata": {
    "tags": []
   },
   "outputs": [],
   "source": [
    "doc,label = load_data(path_)\n",
    "doc = [str(i) for i in doc]"
   ]
  },
  {
   "cell_type": "code",
   "execution_count": null,
   "id": "22f877c5-814a-4627-8c4c-b268caf9e0e4",
   "metadata": {},
   "outputs": [],
   "source": []
  },
  {
   "cell_type": "markdown",
   "id": "d31f528b-4b75-4fbd-8d8d-a41126f7542b",
   "metadata": {},
   "source": [
    "# Method 1"
   ]
  },
  {
   "cell_type": "code",
   "execution_count": 388,
   "id": "0963d375-cb36-4e2e-9514-3a3852c0f097",
   "metadata": {
    "tags": []
   },
   "outputs": [],
   "source": [
    "files_ = \"results_epoch_6_evalAcc_98\""
   ]
  },
  {
   "cell_type": "code",
   "execution_count": 389,
   "id": "02a402a7-5496-4b9b-bb6f-1edd1312694b",
   "metadata": {
    "tags": []
   },
   "outputs": [
    {
     "name": "stderr",
     "output_type": "stream",
     "text": [
      "Some weights of BertForSequenceClassification were not initialized from the model checkpoint at bert-base-multilingual-cased and are newly initialized: ['classifier.weight', 'classifier.bias']\n",
      "You should probably TRAIN this model on a down-stream task to be able to use it for predictions and inference.\n"
     ]
    },
    {
     "data": {
      "text/plain": [
       "BertForSequenceClassification(\n",
       "  (bert): BertModel(\n",
       "    (embeddings): BertEmbeddings(\n",
       "      (word_embeddings): Embedding(119547, 768, padding_idx=0)\n",
       "      (position_embeddings): Embedding(512, 768)\n",
       "      (token_type_embeddings): Embedding(2, 768)\n",
       "      (LayerNorm): LayerNorm((768,), eps=1e-12, elementwise_affine=True)\n",
       "      (dropout): Dropout(p=0.1, inplace=False)\n",
       "    )\n",
       "    (encoder): BertEncoder(\n",
       "      (layer): ModuleList(\n",
       "        (0-11): 12 x BertLayer(\n",
       "          (attention): BertAttention(\n",
       "            (self): BertSelfAttention(\n",
       "              (query): Linear(in_features=768, out_features=768, bias=True)\n",
       "              (key): Linear(in_features=768, out_features=768, bias=True)\n",
       "              (value): Linear(in_features=768, out_features=768, bias=True)\n",
       "              (dropout): Dropout(p=0.1, inplace=False)\n",
       "            )\n",
       "            (output): BertSelfOutput(\n",
       "              (dense): Linear(in_features=768, out_features=768, bias=True)\n",
       "              (LayerNorm): LayerNorm((768,), eps=1e-12, elementwise_affine=True)\n",
       "              (dropout): Dropout(p=0.1, inplace=False)\n",
       "            )\n",
       "          )\n",
       "          (intermediate): BertIntermediate(\n",
       "            (dense): Linear(in_features=768, out_features=3072, bias=True)\n",
       "            (intermediate_act_fn): GELUActivation()\n",
       "          )\n",
       "          (output): BertOutput(\n",
       "            (dense): Linear(in_features=3072, out_features=768, bias=True)\n",
       "            (LayerNorm): LayerNorm((768,), eps=1e-12, elementwise_affine=True)\n",
       "            (dropout): Dropout(p=0.1, inplace=False)\n",
       "          )\n",
       "        )\n",
       "      )\n",
       "    )\n",
       "    (pooler): BertPooler(\n",
       "      (dense): Linear(in_features=768, out_features=768, bias=True)\n",
       "      (activation): Tanh()\n",
       "    )\n",
       "  )\n",
       "  (dropout): Dropout(p=0.1, inplace=False)\n",
       "  (classifier): Linear(in_features=768, out_features=21, bias=True)\n",
       ")"
      ]
     },
     "execution_count": 389,
     "metadata": {},
     "output_type": "execute_result"
    }
   ],
   "source": [
    "model = BertForSequenceClassification.from_pretrained(\"bert-base-multilingual-cased\", num_labels=21)\n",
    "#checkpoint = torch.load(path_to_checkpoint)\n",
    "checkpoint = torch.load(r\"C:\\Users\\USER\\Desktop\\All\\Project\\23_VRP\\Classification\\model\\{}.pth\".format(files_))\n",
    "model.load_state_dict(checkpoint)\n",
    "device = torch.device(\"cuda\")\n",
    "model.eval()"
   ]
  },
  {
   "cell_type": "code",
   "execution_count": 390,
   "id": "05d17920-6361-45a0-948b-50184969b43f",
   "metadata": {
    "tags": []
   },
   "outputs": [],
   "source": [
    "# def inference_fn(sentence):\n",
    "#     inputs = tokenizer(\n",
    "#         sentence,\n",
    "#         max_length=20,\n",
    "#         padding=\"max_length\",\n",
    "#         truncation=True,\n",
    "#     )\n",
    "#     with torch.no_grad():\n",
    "#         outputs = model(**{k: torch.tensor(v) for k, v in inputs.items()})\n",
    "#         probs = outputs.logits[0].softmax(dim=0)\n",
    "#         top_probs, preds = torch.topk(probs, dim=0, k=1)\n",
    "#         tokens = tokenizer.convert_ids_to_tokens(inputs[\"input_ids\"][0])\n",
    "#         predicted_tags = [ pred.item() for pred in preds]\n",
    "#         result = []\n",
    "#         for token, predicted_tag, top_prob in zip(tokens, predicted_tags, top_probs):\n",
    "#             if token not in [tokenizer.pad_token, tokenizer.cls_token, tokenizer.sep_token]:\n",
    "#                 token_result = {\n",
    "#                     \"token\": token,\n",
    "#                     \"predicted_tag\": predicted_tag,\n",
    "#                     \"top_prob\": str(round(top_prob[0].item(), 4)),\n",
    "#                 }\n",
    "#                 result.append(token_result)\n",
    "#     return {\n",
    "#         \"sentence\": sentence,\n",
    "#         \"result\": result,\n",
    "#     }"
   ]
  },
  {
   "cell_type": "code",
   "execution_count": null,
   "id": "00bccfc0-a594-4b34-b961-82642d3b7912",
   "metadata": {},
   "outputs": [],
   "source": []
  },
  {
   "cell_type": "code",
   "execution_count": 391,
   "id": "772a2291-eb6e-4e39-a79c-7f43dbb48b96",
   "metadata": {
    "tags": []
   },
   "outputs": [
    {
     "data": {
      "text/plain": [
       "'생선'"
      ]
     },
     "execution_count": 391,
     "metadata": {},
     "output_type": "execute_result"
    }
   ],
   "source": [
    "#test_1 = doc[3:5]\n",
    "test_1 = \"생선\"\n",
    "#test_1 = doc[3]\n",
    "\n",
    "test_1"
   ]
  },
  {
   "cell_type": "code",
   "execution_count": 392,
   "id": "995853f6-bc2e-42b6-9493-093332925192",
   "metadata": {
    "tags": []
   },
   "outputs": [],
   "source": [
    "def inference_doc(test_1):\n",
    "    inputs = tokenizer(\n",
    "        [test_1],\n",
    "        max_length=20,\n",
    "        padding=\"max_length\",\n",
    "        truncation=True,\n",
    "    )\n",
    "    with torch.no_grad():\n",
    "        outputs = model(**{k: torch.tensor(v) for k, v in inputs.items()})\n",
    "        probs = outputs.logits[0].softmax(dim=0)\n",
    "        top_probs, preds = torch.topk(probs, dim=0, k=1)\n",
    "        tokens = tokenizer.convert_ids_to_tokens(inputs[\"input_ids\"][0])\n",
    "        predicted_tags = [ pred.item() for pred in preds]\n",
    "\n",
    "        out_prob = str(round(top_probs[0].item(), 4))\n",
    "        out_tag = preds.item()\n",
    "    return [test_1,out_tag,out_prob]"
   ]
  },
  {
   "cell_type": "code",
   "execution_count": 395,
   "id": "e533f66d-2cb1-4e42-a8a1-6667962b6867",
   "metadata": {
    "tags": []
   },
   "outputs": [
    {
     "data": {
      "text/plain": [
       "['생선', 5, '0.9973']"
      ]
     },
     "execution_count": 395,
     "metadata": {},
     "output_type": "execute_result"
    }
   ],
   "source": [
    "inference_doc(test_1)"
   ]
  },
  {
   "cell_type": "code",
   "execution_count": 396,
   "id": "54fe74ff-690c-4c18-8197-a1207b2af378",
   "metadata": {
    "tags": []
   },
   "outputs": [],
   "source": [
    "tests_ = doc[0:20]"
   ]
  },
  {
   "cell_type": "code",
   "execution_count": 397,
   "id": "2e3bb156-8eec-4c85-bb00-2d5056de326c",
   "metadata": {
    "tags": []
   },
   "outputs": [
    {
     "data": {
      "application/vnd.jupyter.widget-view+json": {
       "model_id": "b71d6660dbfd4ca7a8eaadbe89c3b416",
       "version_major": 2,
       "version_minor": 0
      },
      "text/plain": [
       "  0%|          | 0/28148 [00:00<?, ?it/s]"
      ]
     },
     "metadata": {},
     "output_type": "display_data"
    }
   ],
   "source": [
    "out_list = []\n",
    "tq = tqdm(doc)\n",
    "for test_ in tq:\n",
    "    out_list.append(inference_doc(test_))"
   ]
  },
  {
   "cell_type": "code",
   "execution_count": 398,
   "id": "3d76063b-8930-41de-b8fc-f3ab6ab05f44",
   "metadata": {
    "tags": []
   },
   "outputs": [
    {
     "data": {
      "text/html": [
       "<div>\n",
       "<style scoped>\n",
       "    .dataframe tbody tr th:only-of-type {\n",
       "        vertical-align: middle;\n",
       "    }\n",
       "\n",
       "    .dataframe tbody tr th {\n",
       "        vertical-align: top;\n",
       "    }\n",
       "\n",
       "    .dataframe thead th {\n",
       "        text-align: right;\n",
       "    }\n",
       "</style>\n",
       "<table border=\"1\" class=\"dataframe\">\n",
       "  <thead>\n",
       "    <tr style=\"text-align: right;\">\n",
       "      <th></th>\n",
       "      <th>document</th>\n",
       "      <th>label</th>\n",
       "      <th>prob</th>\n",
       "    </tr>\n",
       "  </thead>\n",
       "  <tbody>\n",
       "    <tr>\n",
       "      <th>0</th>\n",
       "      <td>nan</td>\n",
       "      <td>2</td>\n",
       "      <td>0.9985</td>\n",
       "    </tr>\n",
       "    <tr>\n",
       "      <th>1</th>\n",
       "      <td>완도 명가 다시마()</td>\n",
       "      <td>8</td>\n",
       "      <td>0.9995</td>\n",
       "    </tr>\n",
       "    <tr>\n",
       "      <th>2</th>\n",
       "      <td>콜라개</td>\n",
       "      <td>2</td>\n",
       "      <td>0.9964</td>\n",
       "    </tr>\n",
       "    <tr>\n",
       "      <th>3</th>\n",
       "      <td>한우사골(국내산 팩)</td>\n",
       "      <td>8</td>\n",
       "      <td>0.9994</td>\n",
       "    </tr>\n",
       "    <tr>\n",
       "      <th>4</th>\n",
       "      <td>누룽지 100t</td>\n",
       "      <td>8</td>\n",
       "      <td>0.9997</td>\n",
       "    </tr>\n",
       "    <tr>\n",
       "      <th>...</th>\n",
       "      <td>...</td>\n",
       "      <td>...</td>\n",
       "      <td>...</td>\n",
       "    </tr>\n",
       "    <tr>\n",
       "      <th>28143</th>\n",
       "      <td>포카리스웨트 분말</td>\n",
       "      <td>15</td>\n",
       "      <td>0.9989</td>\n",
       "    </tr>\n",
       "    <tr>\n",
       "      <th>28144</th>\n",
       "      <td>artisan biscuits 투바이투 바닐라 비스킷</td>\n",
       "      <td>11</td>\n",
       "      <td>0.9995</td>\n",
       "    </tr>\n",
       "    <tr>\n",
       "      <th>28145</th>\n",
       "      <td>양말.스타킹개</td>\n",
       "      <td>15</td>\n",
       "      <td>0.8608</td>\n",
       "    </tr>\n",
       "    <tr>\n",
       "      <th>28146</th>\n",
       "      <td>더쫄깃한진공반죽국수</td>\n",
       "      <td>8</td>\n",
       "      <td>0.2622</td>\n",
       "    </tr>\n",
       "    <tr>\n",
       "      <th>28147</th>\n",
       "      <td>웅진식품 자연은내사랑알로에 - bottle</td>\n",
       "      <td>13</td>\n",
       "      <td>0.9993</td>\n",
       "    </tr>\n",
       "  </tbody>\n",
       "</table>\n",
       "<p>28148 rows × 3 columns</p>\n",
       "</div>"
      ],
      "text/plain": [
       "                            document  label    prob\n",
       "0                                nan      2  0.9985\n",
       "1                        완도 명가 다시마()      8  0.9995\n",
       "2                                콜라개      2  0.9964\n",
       "3                        한우사골(국내산 팩)      8  0.9994\n",
       "4                           누룽지 100t      8  0.9997\n",
       "...                              ...    ...     ...\n",
       "28143                      포카리스웨트 분말     15  0.9989\n",
       "28144  artisan biscuits 투바이투 바닐라 비스킷     11  0.9995\n",
       "28145                        양말.스타킹개     15  0.8608\n",
       "28146                    더쫄깃한진공반죽국수       8  0.2622\n",
       "28147        웅진식품 자연은내사랑알로에 - bottle     13  0.9993\n",
       "\n",
       "[28148 rows x 3 columns]"
      ]
     },
     "execution_count": 398,
     "metadata": {},
     "output_type": "execute_result"
    }
   ],
   "source": [
    "out_df = pd.DataFrame(out_list,columns=[\"document\",\"label\",\"prob\"])\n",
    "out_df"
   ]
  },
  {
   "cell_type": "code",
   "execution_count": 399,
   "id": "d436c933-44f7-4650-8e76-09a7785a454f",
   "metadata": {
    "tags": []
   },
   "outputs": [],
   "source": [
    "out_df.to_excel(r\"C:\\Users\\USER\\Desktop\\All\\Project\\23_VRP\\Data\\경기\\all_cate.xlsx\")"
   ]
  },
  {
   "cell_type": "code",
   "execution_count": null,
   "id": "40bd164b-530b-468e-8e40-b254176d9fcd",
   "metadata": {},
   "outputs": [],
   "source": []
  },
  {
   "cell_type": "code",
   "execution_count": null,
   "id": "fc0486f9-554f-473f-8a3c-3eef586e6367",
   "metadata": {},
   "outputs": [],
   "source": []
  },
  {
   "cell_type": "code",
   "execution_count": null,
   "id": "d53f515c-2bda-4a28-8c5d-42267cd4b72b",
   "metadata": {},
   "outputs": [],
   "source": []
  }
 ],
 "metadata": {
  "kernelspec": {
   "display_name": "Python 3 (ipykernel)",
   "language": "python",
   "name": "python3"
  },
  "language_info": {
   "codemirror_mode": {
    "name": "ipython",
    "version": 3
   },
   "file_extension": ".py",
   "mimetype": "text/x-python",
   "name": "python",
   "nbconvert_exporter": "python",
   "pygments_lexer": "ipython3",
   "version": "3.11.5"
  }
 },
 "nbformat": 4,
 "nbformat_minor": 5
}
