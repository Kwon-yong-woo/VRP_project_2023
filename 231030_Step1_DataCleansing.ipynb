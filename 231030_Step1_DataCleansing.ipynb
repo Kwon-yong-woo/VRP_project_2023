{
 "cells": [
  {
   "cell_type": "code",
   "execution_count": 10,
   "id": "ae91de5c-adde-4065-ae12-68614608b3d7",
   "metadata": {
    "tags": []
   },
   "outputs": [],
   "source": [
    "import pandas as pd\n",
    "import numpy as np\n",
    "import re"
   ]
  },
  {
   "cell_type": "code",
   "execution_count": 2,
   "id": "8f9277fc-ffea-4fdf-8066-9506374816ea",
   "metadata": {
    "tags": []
   },
   "outputs": [],
   "source": [
    "path_ = r\"C:\\Users\\USER\\Desktop\\All\\Project\\23_VRP\\Data\\경기\\version_2\""
   ]
  },
  {
   "cell_type": "code",
   "execution_count": 8,
   "id": "400be12e-7ff0-421c-94bb-8c5dc0b83aba",
   "metadata": {
    "tags": []
   },
   "outputs": [],
   "source": [
    "df_ = pd.read_excel(path_+r\"\\Data_Train.xlsx\")"
   ]
  },
  {
   "cell_type": "code",
   "execution_count": 49,
   "id": "a7633efb-88d1-49e4-9485-8aabc944be95",
   "metadata": {
    "tags": []
   },
   "outputs": [
    {
     "data": {
      "text/html": [
       "<div>\n",
       "<style scoped>\n",
       "    .dataframe tbody tr th:only-of-type {\n",
       "        vertical-align: middle;\n",
       "    }\n",
       "\n",
       "    .dataframe tbody tr th {\n",
       "        vertical-align: top;\n",
       "    }\n",
       "\n",
       "    .dataframe thead th {\n",
       "        text-align: right;\n",
       "    }\n",
       "</style>\n",
       "<table border=\"1\" class=\"dataframe\">\n",
       "  <thead>\n",
       "    <tr style=\"text-align: right;\">\n",
       "      <th></th>\n",
       "      <th>document</th>\n",
       "      <th>label</th>\n",
       "    </tr>\n",
       "  </thead>\n",
       "  <tbody>\n",
       "    <tr>\n",
       "      <th>0</th>\n",
       "      <td>찰기장 40kg</td>\n",
       "      <td>2</td>\n",
       "    </tr>\n",
       "    <tr>\n",
       "      <th>1</th>\n",
       "      <td>Vanilla Raspberry Cake KR 245g(바닐라라즈베리케익)1pac...</td>\n",
       "      <td>9</td>\n",
       "    </tr>\n",
       "    <tr>\n",
       "      <th>2</th>\n",
       "      <td>건아로니아</td>\n",
       "      <td>6</td>\n",
       "    </tr>\n",
       "    <tr>\n",
       "      <th>3</th>\n",
       "      <td>계란(30구)</td>\n",
       "      <td>4</td>\n",
       "    </tr>\n",
       "    <tr>\n",
       "      <th>4</th>\n",
       "      <td>니콜하우스 생과일주스</td>\n",
       "      <td>13</td>\n",
       "    </tr>\n",
       "  </tbody>\n",
       "</table>\n",
       "</div>"
      ],
      "text/plain": [
       "                                            document  label\n",
       "0                                   찰기장 40kg              2\n",
       "1   Vanilla Raspberry Cake KR 245g(바닐라라즈베리케익)1pac...      9\n",
       "2                                              건아로니아      6\n",
       "3                                            계란(30구)      4\n",
       "4                                        니콜하우스 생과일주스     13"
      ]
     },
     "execution_count": 49,
     "metadata": {},
     "output_type": "execute_result"
    }
   ],
   "source": [
    "df_ = df_[df_[\"label\"]!=0].reset_index(drop=True)\n",
    "df_.head()"
   ]
  },
  {
   "cell_type": "code",
   "execution_count": null,
   "id": "015a22bf-39ec-411e-b851-938532dad6db",
   "metadata": {},
   "outputs": [],
   "source": []
  },
  {
   "cell_type": "code",
   "execution_count": null,
   "id": "501226c6-0899-4430-a4fe-e2dc25fde2ef",
   "metadata": {},
   "outputs": [],
   "source": []
  },
  {
   "cell_type": "markdown",
   "id": "22bbf0cb-0477-4903-b1b0-57c1f05d8bf4",
   "metadata": {},
   "source": [
    "# Data Cleansing"
   ]
  },
  {
   "cell_type": "markdown",
   "id": "8635d423-d466-47e8-bf77-5ba10cc6fd54",
   "metadata": {
    "tags": []
   },
   "source": [
    "1. 기타 제거하기\n",
    "2. 중복 space 제거하기\n",
    "2. 단위 제거\n",
    "3. "
   ]
  },
  {
   "cell_type": "code",
   "execution_count": 50,
   "id": "853d8d76-0195-4eb9-926b-6cb34c0d7b4e",
   "metadata": {
    "tags": []
   },
   "outputs": [],
   "source": [
    "def removal_spaces(text_):\n",
    "    return \" \".join(text_.split())"
   ]
  },
  {
   "cell_type": "code",
   "execution_count": 73,
   "id": "2d2d8bd1-6f7a-4345-9af8-c526a538d991",
   "metadata": {
    "tags": []
   },
   "outputs": [],
   "source": [
    "\n",
    "#test_ = \"계란(30구)\"\n",
    "pattern = \"G\"\n",
    "def removal_1(test_,pattern):\n",
    "    reg = re.compile(r\"[0-9]+ *{}\".format(pattern))\n",
    "    text_list = reg.findall(test_)\n",
    "    for i in text_list:\n",
    "        test_ = test_.replace(i,\"\")\n",
    "    return test_"
   ]
  },
  {
   "cell_type": "code",
   "execution_count": 74,
   "id": "74f7e42b-9fce-49d1-9620-d8c4aa09d5fe",
   "metadata": {
    "tags": []
   },
   "outputs": [
    {
     "data": {
      "text/plain": [
       "'까나리액젓  10ML'"
      ]
     },
     "execution_count": 74,
     "metadata": {},
     "output_type": "execute_result"
    }
   ],
   "source": [
    "test_ = \"까나리액젓 500 G 10ML\"\n",
    "removal_1(test_,\"G\")"
   ]
  },
  {
   "cell_type": "code",
   "execution_count": 75,
   "id": "a4bcbd2e-a28a-439f-9d97-6b896493bc3d",
   "metadata": {
    "tags": []
   },
   "outputs": [],
   "source": [
    "df_1 = df_.copy()"
   ]
  },
  {
   "cell_type": "code",
   "execution_count": 76,
   "id": "2371d89e-1966-4e96-87e1-c9c4b0260d3d",
   "metadata": {
    "tags": []
   },
   "outputs": [],
   "source": [
    "df_1[\"document\"] = df_1.document.map(lambda x: removal_spaces(x))"
   ]
  },
  {
   "cell_type": "code",
   "execution_count": 54,
   "id": "0e65a994-8883-45b4-bde3-b5599be90c84",
   "metadata": {
    "tags": []
   },
   "outputs": [],
   "source": [
    "df_1.to_excel(r\"C:\\Users\\USER\\Desktop\\All\\Project\\23_VRP\\Data\\경기\\version_2\\dataset_1.xlsx\")"
   ]
  },
  {
   "cell_type": "code",
   "execution_count": null,
   "id": "d7d156e3-ee64-4493-a2c9-519c4213f775",
   "metadata": {},
   "outputs": [],
   "source": []
  },
  {
   "cell_type": "code",
   "execution_count": null,
   "id": "7bfa8d14-cab7-4c19-8e48-d476de61925b",
   "metadata": {},
   "outputs": [],
   "source": []
  },
  {
   "cell_type": "code",
   "execution_count": 77,
   "id": "e73b0551-7fe4-44d7-87a9-0ca14ed082cf",
   "metadata": {
    "tags": []
   },
   "outputs": [],
   "source": [
    "df_2 = df_1.copy()"
   ]
  },
  {
   "cell_type": "code",
   "execution_count": 92,
   "id": "b2d85c4e-9f22-4d2e-bcde-74a78b1e9d64",
   "metadata": {
    "tags": []
   },
   "outputs": [],
   "source": [
    "df_2[\"document\"] = df_2.document.map(lambda x: x.replace(\"/\",\"\"))\n",
    "df_2[\"document\"] = df_2.document.map(lambda x: x.lower())"
   ]
  },
  {
   "cell_type": "code",
   "execution_count": 104,
   "id": "2e6ffa53-2d17-4280-8fa0-d3a2a708341c",
   "metadata": {
    "tags": []
   },
   "outputs": [
    {
     "data": {
      "text/html": [
       "<div>\n",
       "<style scoped>\n",
       "    .dataframe tbody tr th:only-of-type {\n",
       "        vertical-align: middle;\n",
       "    }\n",
       "\n",
       "    .dataframe tbody tr th {\n",
       "        vertical-align: top;\n",
       "    }\n",
       "\n",
       "    .dataframe thead th {\n",
       "        text-align: right;\n",
       "    }\n",
       "</style>\n",
       "<table border=\"1\" class=\"dataframe\">\n",
       "  <thead>\n",
       "    <tr style=\"text-align: right;\">\n",
       "      <th></th>\n",
       "      <th>document</th>\n",
       "      <th>label</th>\n",
       "    </tr>\n",
       "  </thead>\n",
       "  <tbody>\n",
       "    <tr>\n",
       "      <th>0</th>\n",
       "      <td>찰기장</td>\n",
       "      <td>2</td>\n",
       "    </tr>\n",
       "    <tr>\n",
       "      <th>1</th>\n",
       "      <td>vanilla raspberry cake kr (바닐라라즈베리케익)() 냉동</td>\n",
       "      <td>9</td>\n",
       "    </tr>\n",
       "    <tr>\n",
       "      <th>2</th>\n",
       "      <td>건아로니아</td>\n",
       "      <td>6</td>\n",
       "    </tr>\n",
       "    <tr>\n",
       "      <th>3</th>\n",
       "      <td>계란(30구)</td>\n",
       "      <td>4</td>\n",
       "    </tr>\n",
       "    <tr>\n",
       "      <th>4</th>\n",
       "      <td>니콜하우스 생과일주스</td>\n",
       "      <td>13</td>\n",
       "    </tr>\n",
       "  </tbody>\n",
       "</table>\n",
       "</div>"
      ],
      "text/plain": [
       "                                     document  label\n",
       "0                                        찰기장       2\n",
       "1  vanilla raspberry cake kr (바닐라라즈베리케익)() 냉동      9\n",
       "2                                       건아로니아      6\n",
       "3                                     계란(30구)      4\n",
       "4                                 니콜하우스 생과일주스     13"
      ]
     },
     "execution_count": 104,
     "metadata": {},
     "output_type": "execute_result"
    }
   ],
   "source": [
    "\n",
    "\n",
    "df_2[\"document\"] = df_2.document.map(lambda x: removal_1(x,\"kg\"))\n",
    "\n",
    "df_2[\"document\"] = df_2.document.map(lambda x: removal_1(x,\"g\"))\n",
    "df_2[\"document\"] = df_2.document.map(lambda x: removal_1(x,\"ml\"))\n",
    "\n",
    "df_2[\"document\"] = df_2.document.map(lambda x: removal_1(x,\"pack\"))\n",
    "df_2[\"document\"] = df_2.document.map(lambda x: removal_1(x,\"pet\"))\n",
    "\n",
    "df_2[\"document\"] = df_2.document.map(lambda x: removal_1(x,\"ea\"))\n",
    "\n",
    "\n",
    "df_2.head()"
   ]
  },
  {
   "cell_type": "code",
   "execution_count": 105,
   "id": "5c4a357d-dffe-4cd8-8e45-c1fe91422767",
   "metadata": {
    "tags": []
   },
   "outputs": [],
   "source": [
    "df_2.to_excel(r\"C:\\Users\\USER\\Desktop\\All\\Project\\23_VRP\\Data\\경기\\version_2\\dataset_2.xlsx\")"
   ]
  },
  {
   "cell_type": "code",
   "execution_count": null,
   "id": "dd062583-8e9e-4d85-8c92-608557eeff35",
   "metadata": {},
   "outputs": [],
   "source": []
  },
  {
   "cell_type": "code",
   "execution_count": null,
   "id": "5580f83c-a9ab-402e-a4da-6b780ff54085",
   "metadata": {},
   "outputs": [],
   "source": []
  },
  {
   "cell_type": "code",
   "execution_count": null,
   "id": "16d54cec-d155-403f-9ec5-79ef1a3a36f8",
   "metadata": {},
   "outputs": [],
   "source": []
  },
  {
   "cell_type": "code",
   "execution_count": 135,
   "id": "9c452c55-86b9-4242-ae2a-39332b0b6b77",
   "metadata": {
    "tags": []
   },
   "outputs": [],
   "source": [
    "df_3 = pd.read_excel(r\"C:\\Users\\USER\\Desktop\\All\\Project\\23_VRP\\Data\\경기\\version_2\\Data_Train_2.xlsx\")\n",
    "df_3 = df_3.fillna(\"NA\")"
   ]
  },
  {
   "cell_type": "code",
   "execution_count": 137,
   "id": "9cc1f41d-a30a-49dc-b19d-69f86c5ed729",
   "metadata": {
    "tags": []
   },
   "outputs": [],
   "source": [
    "for i in range(len(df_3)):\n",
    "    if df_3[\"label_2\"][i] ==\"NA\":\n",
    "        df_3[\"label_2\"][i] = df_3.label[i]\n",
    "df_3[\"label\"] = df_3[\"label_2\"]"
   ]
  },
  {
   "cell_type": "code",
   "execution_count": 141,
   "id": "52f36c7c-6d39-4273-be9c-ed328dfcc2e2",
   "metadata": {
    "tags": []
   },
   "outputs": [
    {
     "data": {
      "text/html": [
       "<div>\n",
       "<style scoped>\n",
       "    .dataframe tbody tr th:only-of-type {\n",
       "        vertical-align: middle;\n",
       "    }\n",
       "\n",
       "    .dataframe tbody tr th {\n",
       "        vertical-align: top;\n",
       "    }\n",
       "\n",
       "    .dataframe thead th {\n",
       "        text-align: right;\n",
       "    }\n",
       "</style>\n",
       "<table border=\"1\" class=\"dataframe\">\n",
       "  <thead>\n",
       "    <tr style=\"text-align: right;\">\n",
       "      <th></th>\n",
       "      <th>document</th>\n",
       "      <th>label</th>\n",
       "    </tr>\n",
       "  </thead>\n",
       "  <tbody>\n",
       "    <tr>\n",
       "      <th>0</th>\n",
       "      <td>찰기장</td>\n",
       "      <td>2.0</td>\n",
       "    </tr>\n",
       "    <tr>\n",
       "      <th>1</th>\n",
       "      <td>vanilla raspberry cake kr (바닐라라즈베리케익)() 냉동</td>\n",
       "      <td>9</td>\n",
       "    </tr>\n",
       "    <tr>\n",
       "      <th>2</th>\n",
       "      <td>건아로니아</td>\n",
       "      <td>6</td>\n",
       "    </tr>\n",
       "    <tr>\n",
       "      <th>3</th>\n",
       "      <td>계란(30구)</td>\n",
       "      <td>4</td>\n",
       "    </tr>\n",
       "    <tr>\n",
       "      <th>4</th>\n",
       "      <td>니콜하우스 생과일주스</td>\n",
       "      <td>13</td>\n",
       "    </tr>\n",
       "    <tr>\n",
       "      <th>...</th>\n",
       "      <td>...</td>\n",
       "      <td>...</td>\n",
       "    </tr>\n",
       "    <tr>\n",
       "      <th>5243</th>\n",
       "      <td>희망나눔박스</td>\n",
       "      <td>8</td>\n",
       "    </tr>\n",
       "    <tr>\n",
       "      <th>5244</th>\n",
       "      <td>흰설탕</td>\n",
       "      <td>14</td>\n",
       "    </tr>\n",
       "    <tr>\n",
       "      <th>5245</th>\n",
       "      <td>흰우유, 서울우유</td>\n",
       "      <td>3</td>\n",
       "    </tr>\n",
       "    <tr>\n",
       "      <th>5246</th>\n",
       "      <td>흰우유개</td>\n",
       "      <td>3</td>\n",
       "    </tr>\n",
       "    <tr>\n",
       "      <th>5247</th>\n",
       "      <td>히비스커스허브티</td>\n",
       "      <td>15</td>\n",
       "    </tr>\n",
       "  </tbody>\n",
       "</table>\n",
       "<p>5248 rows × 2 columns</p>\n",
       "</div>"
      ],
      "text/plain": [
       "                                        document label\n",
       "0                                           찰기장    2.0\n",
       "1     vanilla raspberry cake kr (바닐라라즈베리케익)() 냉동     9\n",
       "2                                          건아로니아     6\n",
       "3                                        계란(30구)     4\n",
       "4                                    니콜하우스 생과일주스    13\n",
       "...                                          ...   ...\n",
       "5243                                      희망나눔박스     8\n",
       "5244                                         흰설탕    14\n",
       "5245                                   흰우유, 서울우유     3\n",
       "5246                                        흰우유개     3\n",
       "5247                                   히비스커스허브티     15\n",
       "\n",
       "[5248 rows x 2 columns]"
      ]
     },
     "execution_count": 141,
     "metadata": {},
     "output_type": "execute_result"
    }
   ],
   "source": [
    "df_3 = df_3.drop(\"label_2\",axis=1)\n",
    "df_3"
   ]
  },
  {
   "cell_type": "code",
   "execution_count": 142,
   "id": "16fbe71a-01f6-4817-ad7d-96018d0d41a8",
   "metadata": {
    "tags": []
   },
   "outputs": [],
   "source": [
    "df_3.to_excel(r\"C:\\Users\\USER\\Desktop\\All\\Project\\23_VRP\\Data\\경기\\version_2\\dataset_3.xlsx\")"
   ]
  },
  {
   "cell_type": "code",
   "execution_count": null,
   "id": "39b14d6a-4819-4425-831a-b1cd8d0a00ce",
   "metadata": {},
   "outputs": [],
   "source": []
  },
  {
   "cell_type": "code",
   "execution_count": null,
   "id": "5f6d675d-8bd2-4e04-9df6-2c9dcce930d4",
   "metadata": {},
   "outputs": [],
   "source": []
  },
  {
   "cell_type": "code",
   "execution_count": null,
   "id": "4198d9de-4b0c-4fed-8547-142dbdcdb0da",
   "metadata": {},
   "outputs": [],
   "source": []
  },
  {
   "cell_type": "code",
   "execution_count": null,
   "id": "6b4a3931-233b-46fd-8326-436b91061cb7",
   "metadata": {},
   "outputs": [],
   "source": []
  },
  {
   "cell_type": "code",
   "execution_count": null,
   "id": "9253fbeb-6c3b-43be-8ba3-2b9ba631430a",
   "metadata": {},
   "outputs": [],
   "source": []
  },
  {
   "cell_type": "code",
   "execution_count": null,
   "id": "2f6f04fa-d5f0-45a3-9292-b482dc86959c",
   "metadata": {},
   "outputs": [],
   "source": []
  },
  {
   "cell_type": "code",
   "execution_count": 139,
   "id": "ce0e858a-a384-4410-b0d2-321d2cf5d614",
   "metadata": {
    "tags": []
   },
   "outputs": [
    {
     "data": {
      "text/plain": [
       "0       2.0\n",
       "1         9\n",
       "2         6\n",
       "3         4\n",
       "4        13\n",
       "       ... \n",
       "5243      8\n",
       "5244     14\n",
       "5245      3\n",
       "5246      3\n",
       "5247     15\n",
       "Name: label, Length: 5248, dtype: object"
      ]
     },
     "execution_count": 139,
     "metadata": {},
     "output_type": "execute_result"
    }
   ],
   "source": [
    "df_3.loc[:,\"label\"]"
   ]
  },
  {
   "cell_type": "code",
   "execution_count": 100,
   "id": "f33ab469-dce6-4d86-8f63-c0811c152ad6",
   "metadata": {
    "tags": []
   },
   "outputs": [],
   "source": [
    "\n",
    "def finder_1(test_,pattern):\n",
    "    reg = re.compile(pattern)\n",
    "    return reg.findall(test_)"
   ]
  },
  {
   "cell_type": "code",
   "execution_count": null,
   "id": "59616480-b998-4e91-9289-9269f5682419",
   "metadata": {},
   "outputs": [],
   "source": []
  },
  {
   "cell_type": "code",
   "execution_count": 101,
   "id": "783ce6a3-dd38-4687-89e0-79236ae45bf6",
   "metadata": {
    "tags": []
   },
   "outputs": [],
   "source": [
    "df_2_test = df_2.copy()"
   ]
  },
  {
   "cell_type": "code",
   "execution_count": 102,
   "id": "7df41d3e-f8f4-45f2-8d17-1a98016c500d",
   "metadata": {
    "tags": []
   },
   "outputs": [
    {
     "data": {
      "text/html": [
       "<div>\n",
       "<style scoped>\n",
       "    .dataframe tbody tr th:only-of-type {\n",
       "        vertical-align: middle;\n",
       "    }\n",
       "\n",
       "    .dataframe tbody tr th {\n",
       "        vertical-align: top;\n",
       "    }\n",
       "\n",
       "    .dataframe thead th {\n",
       "        text-align: right;\n",
       "    }\n",
       "</style>\n",
       "<table border=\"1\" class=\"dataframe\">\n",
       "  <thead>\n",
       "    <tr style=\"text-align: right;\">\n",
       "      <th></th>\n",
       "      <th>document</th>\n",
       "      <th>label</th>\n",
       "      <th>len</th>\n",
       "    </tr>\n",
       "  </thead>\n",
       "  <tbody>\n",
       "    <tr>\n",
       "      <th>0</th>\n",
       "      <td>농업회사법인 리뉴얼라이프㈜ 유기농쌀이좋아 자색고구마쌀떡과자  (판매원:협동조합마미온푸드)</td>\n",
       "      <td>11</td>\n",
       "      <td>49</td>\n",
       "    </tr>\n",
       "    <tr>\n",
       "      <th>1</th>\n",
       "      <td>에이치엘비제약(주) 락토러브 더블유(w) 100억 프로바이오틱스 500mg*30캡슐</td>\n",
       "      <td>18</td>\n",
       "      <td>46</td>\n",
       "    </tr>\n",
       "    <tr>\n",
       "      <th>2</th>\n",
       "      <td>(주)하림산업 글라이드 육수의 내공 칼칼라면 non fried (116 * 4입)</td>\n",
       "      <td>10</td>\n",
       "      <td>45</td>\n",
       "    </tr>\n",
       "    <tr>\n",
       "      <th>3</th>\n",
       "      <td>(주)오뚜기 gamerz cup 딜러 핫치킨마요 로스트아크소서리스 스페셜에디션</td>\n",
       "      <td>10</td>\n",
       "      <td>44</td>\n",
       "    </tr>\n",
       "    <tr>\n",
       "      <th>4</th>\n",
       "      <td>에이치엘비제약(주) 슬림 가르시니아&amp;amp;식이섬유&amp;amp;히알루론산(*14포)</td>\n",
       "      <td>18</td>\n",
       "      <td>44</td>\n",
       "    </tr>\n",
       "    <tr>\n",
       "      <th>5</th>\n",
       "      <td>에이치엘비제약(주) 락토러브 슬림 프로바이틱스 &amp;amp;가르시니아 (*30입)</td>\n",
       "      <td>18</td>\n",
       "      <td>43</td>\n",
       "    </tr>\n",
       "    <tr>\n",
       "      <th>6</th>\n",
       "      <td>vanilla raspberry cake kr (바닐라라즈베리케익)() 냉동</td>\n",
       "      <td>9</td>\n",
       "      <td>42</td>\n",
       "    </tr>\n",
       "    <tr>\n",
       "      <th>7</th>\n",
       "      <td>정식품 베지밀검은참깨두유*16+w달콤한베지밀b *2 - tetra pack</td>\n",
       "      <td>13</td>\n",
       "      <td>41</td>\n",
       "    </tr>\n",
       "    <tr>\n",
       "      <th>8</th>\n",
       "      <td>tsubuki co.,ltd. yoshikai 모치모치 타이야키 커스타드</td>\n",
       "      <td>1</td>\n",
       "      <td>41</td>\n",
       "    </tr>\n",
       "    <tr>\n",
       "      <th>9</th>\n",
       "      <td>tsubuki co.,ltd. yoshikai 모치모치 타이야키 레드빈</td>\n",
       "      <td>1</td>\n",
       "      <td>40</td>\n",
       "    </tr>\n",
       "  </tbody>\n",
       "</table>\n",
       "</div>"
      ],
      "text/plain": [
       "                                            document  label  len\n",
       "0  농업회사법인 리뉴얼라이프㈜ 유기농쌀이좋아 자색고구마쌀떡과자  (판매원:협동조합마미온푸드)     11   49\n",
       "1     에이치엘비제약(주) 락토러브 더블유(w) 100억 프로바이오틱스 500mg*30캡슐     18   46\n",
       "2      (주)하림산업 글라이드 육수의 내공 칼칼라면 non fried (116 * 4입)     10   45\n",
       "3       (주)오뚜기 gamerz cup 딜러 핫치킨마요 로스트아크소서리스 스페셜에디션      10   44\n",
       "4       에이치엘비제약(주) 슬림 가르시니아&amp;식이섬유&amp;히알루론산(*14포)     18   44\n",
       "5        에이치엘비제약(주) 락토러브 슬림 프로바이틱스 &amp;가르시니아 (*30입)     18   43\n",
       "6         vanilla raspberry cake kr (바닐라라즈베리케익)() 냉동      9   42\n",
       "7          정식품 베지밀검은참깨두유*16+w달콤한베지밀b *2 - tetra pack     13   41\n",
       "8          tsubuki co.,ltd. yoshikai 모치모치 타이야키 커스타드       1   41\n",
       "9           tsubuki co.,ltd. yoshikai 모치모치 타이야키 레드빈       1   40"
      ]
     },
     "execution_count": 102,
     "metadata": {},
     "output_type": "execute_result"
    }
   ],
   "source": [
    "df_2_test[\"len\"] = df_2.document.map(lambda x: len(x))\n",
    "df_2_test.sort_values(by=\"len\",ascending=False).reset_index(drop=True).iloc[0:10]"
   ]
  },
  {
   "cell_type": "code",
   "execution_count": 103,
   "id": "4f3295a2-062f-4971-826d-70d2bebe351f",
   "metadata": {
    "tags": []
   },
   "outputs": [
    {
     "data": {
      "text/html": [
       "<div>\n",
       "<style scoped>\n",
       "    .dataframe tbody tr th:only-of-type {\n",
       "        vertical-align: middle;\n",
       "    }\n",
       "\n",
       "    .dataframe tbody tr th {\n",
       "        vertical-align: top;\n",
       "    }\n",
       "\n",
       "    .dataframe thead th {\n",
       "        text-align: right;\n",
       "    }\n",
       "</style>\n",
       "<table border=\"1\" class=\"dataframe\">\n",
       "  <thead>\n",
       "    <tr style=\"text-align: right;\">\n",
       "      <th></th>\n",
       "      <th>document</th>\n",
       "      <th>label</th>\n",
       "      <th>len</th>\n",
       "    </tr>\n",
       "  </thead>\n",
       "  <tbody>\n",
       "    <tr>\n",
       "      <th>1</th>\n",
       "      <td>vanilla raspberry cake kr (바닐라라즈베리케익)() 냉동</td>\n",
       "      <td>9</td>\n",
       "      <td>42</td>\n",
       "    </tr>\n",
       "    <tr>\n",
       "      <th>35</th>\n",
       "      <td>(북부산새마을금고) 사과 식초 pet</td>\n",
       "      <td>14</td>\n",
       "      <td>21</td>\n",
       "    </tr>\n",
       "    <tr>\n",
       "      <th>41</th>\n",
       "      <td>(주) 오뚜기 3분 햄버그 스테이크  x</td>\n",
       "      <td>8</td>\n",
       "      <td>23</td>\n",
       "    </tr>\n",
       "    <tr>\n",
       "      <th>45</th>\n",
       "      <td>(주)꽃샘식품 둥굴레 담은 누룽지차 1.*40t</td>\n",
       "      <td>13</td>\n",
       "      <td>26</td>\n",
       "    </tr>\n",
       "    <tr>\n",
       "      <th>46</th>\n",
       "      <td>(주)꿈꾸는콩 맑은물에 국산 촌두부 찌개용</td>\n",
       "      <td>8</td>\n",
       "      <td>24</td>\n",
       "    </tr>\n",
       "    <tr>\n",
       "      <th>...</th>\n",
       "      <td>...</td>\n",
       "      <td>...</td>\n",
       "      <td>...</td>\n",
       "    </tr>\n",
       "    <tr>\n",
       "      <th>5012</th>\n",
       "      <td>한일식품(주) 국수 사리면 4개입(티브이푸드)</td>\n",
       "      <td>8</td>\n",
       "      <td>25</td>\n",
       "    </tr>\n",
       "    <tr>\n",
       "      <th>5050</th>\n",
       "      <td>해저식품 광천파래김 - foil bag</td>\n",
       "      <td>8</td>\n",
       "      <td>21</td>\n",
       "    </tr>\n",
       "    <tr>\n",
       "      <th>5070</th>\n",
       "      <td>해태제과식품(주) 시크릿 프렌즈 남아용</td>\n",
       "      <td>17</td>\n",
       "      <td>21</td>\n",
       "    </tr>\n",
       "    <tr>\n",
       "      <th>5110</th>\n",
       "      <td>향돈촌영농조합법인 지리산토담흑돈앞다리살</td>\n",
       "      <td>4</td>\n",
       "      <td>21</td>\n",
       "    </tr>\n",
       "    <tr>\n",
       "      <th>5159</th>\n",
       "      <td>호밍스 계란옷을 입혀 더 맛있는 고기완자</td>\n",
       "      <td>8</td>\n",
       "      <td>22</td>\n",
       "    </tr>\n",
       "  </tbody>\n",
       "</table>\n",
       "<p>262 rows × 3 columns</p>\n",
       "</div>"
      ],
      "text/plain": [
       "                                        document  label  len\n",
       "1     vanilla raspberry cake kr (바닐라라즈베리케익)() 냉동      9   42\n",
       "35                         (북부산새마을금고) 사과 식초 pet      14   21\n",
       "41                       (주) 오뚜기 3분 햄버그 스테이크  x       8   23\n",
       "45                    (주)꽃샘식품 둥굴레 담은 누룽지차 1.*40t     13   26\n",
       "46                      (주)꿈꾸는콩 맑은물에 국산 촌두부 찌개용       8   24\n",
       "...                                          ...    ...  ...\n",
       "5012                   한일식품(주) 국수 사리면 4개입(티브이푸드)      8   25\n",
       "5050                       해저식품 광천파래김 - foil bag      8   21\n",
       "5070                       해태제과식품(주) 시크릿 프렌즈 남아용     17   21\n",
       "5110                       향돈촌영농조합법인 지리산토담흑돈앞다리살      4   21\n",
       "5159                      호밍스 계란옷을 입혀 더 맛있는 고기완자      8   22\n",
       "\n",
       "[262 rows x 3 columns]"
      ]
     },
     "execution_count": 103,
     "metadata": {},
     "output_type": "execute_result"
    }
   ],
   "source": [
    "df_2_test[df_2_test[\"len\"]>20]"
   ]
  },
  {
   "cell_type": "code",
   "execution_count": null,
   "id": "907d20de-b870-4afc-ba0e-c3e68e809440",
   "metadata": {},
   "outputs": [],
   "source": []
  },
  {
   "cell_type": "code",
   "execution_count": null,
   "id": "4c2ce496-5ce9-4723-9d94-c54b807b3e57",
   "metadata": {},
   "outputs": [],
   "source": []
  },
  {
   "cell_type": "code",
   "execution_count": null,
   "id": "9710e33a-79d8-42d5-99ff-cd66c60c423d",
   "metadata": {},
   "outputs": [],
   "source": []
  },
  {
   "cell_type": "code",
   "execution_count": null,
   "id": "3399d0a0-70a4-4922-99a2-a540ac3be503",
   "metadata": {},
   "outputs": [],
   "source": []
  },
  {
   "cell_type": "code",
   "execution_count": null,
   "id": "d879e12e-727b-476b-b109-0aafb0d2fc88",
   "metadata": {},
   "outputs": [],
   "source": []
  },
  {
   "cell_type": "code",
   "execution_count": null,
   "id": "944e916e-bfa5-4bea-8cf7-74ed97422d67",
   "metadata": {},
   "outputs": [],
   "source": []
  }
 ],
 "metadata": {
  "kernelspec": {
   "display_name": "Python 3 (ipykernel)",
   "language": "python",
   "name": "python3"
  },
  "language_info": {
   "codemirror_mode": {
    "name": "ipython",
    "version": 3
   },
   "file_extension": ".py",
   "mimetype": "text/x-python",
   "name": "python",
   "nbconvert_exporter": "python",
   "pygments_lexer": "ipython3",
   "version": "3.11.5"
  }
 },
 "nbformat": 4,
 "nbformat_minor": 5
}
