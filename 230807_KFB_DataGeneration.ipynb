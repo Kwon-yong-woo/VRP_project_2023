{
 "cells": [
  {
   "cell_type": "code",
   "execution_count": 94,
   "id": "f6036fc7",
   "metadata": {},
   "outputs": [
    {
     "name": "stderr",
     "output_type": "stream",
     "text": [
      "C:\\Users\\Public\\Documents\\ESTsoft\\CreatorTemp\\ipykernel_16740\\4019966501.py:7: DeprecationWarning: Importing display from IPython.core.display is deprecated since IPython 7.14, please import from IPython display\n",
      "  from IPython.core.display import display, HTML\n"
     ]
    }
   ],
   "source": [
    "import numpy as np\n",
    "import pandas as pd\n",
    "import re\n",
    "import json\n",
    "\n",
    "from IPython.display import display\n",
    "from IPython.core.display import display, HTML\n",
    "from tqdm.notebook import tqdm\n",
    "from collections import Counter\n",
    "\n",
    "# For cralwer\n",
    "from bs4 import BeautifulSoup\n",
    "from fake_useragent import UserAgent\n",
    "import xml.etree.ElementTree as et\n",
    "import requests\n",
    "\n",
    "import xml.etree.ElementTree as et\n",
    "import xmltodict\n",
    "\n",
    "# For visualization\n",
    "from geopy.geocoders import Nominatim\n",
    "import folium"
   ]
  },
  {
   "cell_type": "code",
   "execution_count": 2,
   "id": "755c43e1",
   "metadata": {},
   "outputs": [],
   "source": [
    "def url_split(url):\n",
    "    main_,para_1 = url.split(\"?\")\n",
    "    para_2 = para_1.split(\"&\")\n",
    "    para_3 = [d.replace(\"=\",\":\").split(\":\") for d in para_2 if len(d.replace(\"=\",\":\").split(\":\")) != 1]\n",
    "    params_ = {}\n",
    "    #print(para_3)\n",
    "    for key,value in para_3:\n",
    "        params_[key] = value\n",
    "    return main_,params_"
   ]
  },
  {
   "cell_type": "code",
   "execution_count": 3,
   "id": "d2720b84",
   "metadata": {},
   "outputs": [],
   "source": [
    "def query_df_out(query_df,query,version=None):\n",
    "    a = query_df[query_df[\"구분\"]==query]\n",
    "    if version ==\"all\":\n",
    "        b = a\n",
    "    elif version == 1:\n",
    "        b = a[query_df[\"항목구분\"]==0]\n",
    "    else:\n",
    "        b = a[query_df[\"항목구분\"]==1]\n",
    "    return b"
   ]
  },
  {
   "cell_type": "code",
   "execution_count": 4,
   "id": "2b24e1f0",
   "metadata": {},
   "outputs": [],
   "source": [
    "df_in = pd.read_excel(r\"C:\\Users\\Samsung\\Desktop\\all\\Project\\23_VRPTW\\Data\\Korea\\Query_Book.xlsx\",sheet_name=\"all\")\n",
    "df_out = pd.read_excel(r\"C:\\Users\\Samsung\\Desktop\\all\\Project\\23_VRPTW\\Data\\Korea\\Query_Book.xlsx\",sheet_name=\"out\")\n",
    "df_item = pd.read_excel(r\"C:\\Users\\Samsung\\Desktop\\all\\Project\\23_VRPTW\\Data\\Korea\\Query_Book.xlsx\",sheet_name=\"items\")"
   ]
  },
  {
   "cell_type": "code",
   "execution_count": 5,
   "id": "dcea75ec",
   "metadata": {},
   "outputs": [],
   "source": [
    "df_in2 = df_in[[\"항목명(영문)\",\"항목명(국문)\"]].drop_duplicates(subset=[\"항목명(영문)\"]).reset_index(drop=True)\n",
    "df_out2 = df_out[[\"항목명(영문)\",\"항목명(국문)\"]].drop_duplicates(subset=[\"항목명(영문)\"]).reset_index(drop=True)"
   ]
  },
  {
   "cell_type": "code",
   "execution_count": 6,
   "id": "1643f3a5",
   "metadata": {},
   "outputs": [],
   "source": [
    "cate_ = {}\n",
    "for row,col in df_in2.iterrows():\n",
    "    key_ = col[\"항목명(영문)\"].replace(\"\\\\\",\"\")\n",
    "    value_  =col[\"항목명(국문)\"].replace(\"\\\\\",\"\")\n",
    "    cate_[key_] = value_\n",
    "\n",
    "for row,col in df_out2.iterrows():\n",
    "    key_ = col[\"항목명(영문)\"].replace(\"\\\\\",\"\")\n",
    "    value_  =col[\"항목명(국문)\"].replace(\"\\\\\",\"\")\n",
    "    cate_[key_] = value_"
   ]
  },
  {
   "cell_type": "code",
   "execution_count": 7,
   "id": "d2c2f9f2",
   "metadata": {},
   "outputs": [],
   "source": [
    "url_main = \"http://apis.data.go.kr/B460014/foodBankInfoService2\""
   ]
  },
  {
   "cell_type": "code",
   "execution_count": 8,
   "id": "0270ab36",
   "metadata": {},
   "outputs": [],
   "source": [
    "encode = \"%2Fxc7f1IdclYG5tj6DIg1cU51nehX%2FzyMWvw8PpOvhKJqmfs8VwS2fnyJi03lk0J1UC73TJxpw6VBrT4Dk6rwkA%3D%3D\"\n",
    "decode = \"/xc7f1IdclYG5tj6DIg1cU51nehX/zyMWvw8PpOvhKJqmfs8VwS2fnyJi03lk0J1UC73TJxpw6VBrT4Dk6rwkA==\""
   ]
  },
  {
   "cell_type": "code",
   "execution_count": 9,
   "id": "b8b6c215",
   "metadata": {},
   "outputs": [],
   "source": [
    "query_1 = {\n",
    "    \"getUserInfo\": \"이용자\", \"getFcltyGrpInfo\" : \"이용시설단체\", \"getCntrbtrInfo\":\"기부자\",\n",
    "    \"getRceptStat\": \"접수현황\", \"getProvdStat\": \"제공현황\",\n",
    "    \"getCnttgInfo\":\"물품현황\",\"getSpctrInfo\":\"센터통계\", \"getPreferInfo\":\"선호물품\"\n",
    "}"
   ]
  },
  {
   "cell_type": "code",
   "execution_count": 10,
   "id": "38393e95",
   "metadata": {},
   "outputs": [],
   "source": [
    "query_1_2 = {\n",
    "    value:key for key,value in query_1.items()\n",
    "}"
   ]
  },
  {
   "cell_type": "code",
   "execution_count": null,
   "id": "b17834c0",
   "metadata": {},
   "outputs": [],
   "source": []
  },
  {
   "cell_type": "markdown",
   "id": "3176512f",
   "metadata": {},
   "source": [
    "# Censter Listup"
   ]
  },
  {
   "cell_type": "code",
   "execution_count": 12,
   "id": "8d73f83a",
   "metadata": {},
   "outputs": [
    {
     "data": {
      "text/html": [
       "<div>\n",
       "<style scoped>\n",
       "    .dataframe tbody tr th:only-of-type {\n",
       "        vertical-align: middle;\n",
       "    }\n",
       "\n",
       "    .dataframe tbody tr th {\n",
       "        vertical-align: top;\n",
       "    }\n",
       "\n",
       "    .dataframe thead th {\n",
       "        text-align: right;\n",
       "    }\n",
       "</style>\n",
       "<table border=\"1\" class=\"dataframe\">\n",
       "  <thead>\n",
       "    <tr style=\"text-align: right;\">\n",
       "      <th></th>\n",
       "      <th>Unnamed: 0</th>\n",
       "      <th>기준년월</th>\n",
       "      <th>지역코드</th>\n",
       "      <th>지원센터단위코드</th>\n",
       "      <th>지원센터구분코드</th>\n",
       "      <th>지원센터코드</th>\n",
       "      <th>지원센터주소</th>\n",
       "      <th>지원센터상세주소</th>\n",
       "      <th>주소</th>\n",
       "      <th>지원센터주소2</th>\n",
       "      <th>지원센터주소3</th>\n",
       "    </tr>\n",
       "  </thead>\n",
       "  <tbody>\n",
       "    <tr>\n",
       "      <th>0</th>\n",
       "      <td>0</td>\n",
       "      <td>201701</td>\n",
       "      <td>중앙</td>\n",
       "      <td>전국</td>\n",
       "      <td>푸드뱅크</td>\n",
       "      <td>전국푸드뱅크</td>\n",
       "      <td>서울특별시 마포구 만리재로 14</td>\n",
       "      <td>한국사회복지회관 4층</td>\n",
       "      <td>서울특별시 마포구 만리재로 14 한국사회복지회관 4층</td>\n",
       "      <td>서울특별시 마포구 만리재로 14</td>\n",
       "      <td>서울특별시 마포구 만리재로 14</td>\n",
       "    </tr>\n",
       "    <tr>\n",
       "      <th>1</th>\n",
       "      <td>1</td>\n",
       "      <td>201701</td>\n",
       "      <td>서울</td>\n",
       "      <td>광역</td>\n",
       "      <td>푸드뱅크</td>\n",
       "      <td>서울시광역푸드뱅크</td>\n",
       "      <td>서울 도봉구 창동</td>\n",
       "      <td>1-7</td>\n",
       "      <td>서울 도봉구 창동 1-7</td>\n",
       "      <td>서울 도봉구 창동</td>\n",
       "      <td>서울 도봉구 창동</td>\n",
       "    </tr>\n",
       "    <tr>\n",
       "      <th>2</th>\n",
       "      <td>2</td>\n",
       "      <td>201701</td>\n",
       "      <td>서울</td>\n",
       "      <td>기초</td>\n",
       "      <td>푸드뱅크</td>\n",
       "      <td>영등포사랑나눔푸드뱅크</td>\n",
       "      <td>서울특별시 영등포구 도림로61길 7</td>\n",
       "      <td>7</td>\n",
       "      <td>서울특별시 영등포구 도림로61길 7 7</td>\n",
       "      <td>서울특별시 영등포구 도림로61길 7</td>\n",
       "      <td>서울특별시 영등포구 도림로 61길 7</td>\n",
       "    </tr>\n",
       "    <tr>\n",
       "      <th>3</th>\n",
       "      <td>3</td>\n",
       "      <td>201701</td>\n",
       "      <td>서울</td>\n",
       "      <td>기초</td>\n",
       "      <td>푸드뱅크</td>\n",
       "      <td>성동희망푸드뱅크</td>\n",
       "      <td>서울특별시 성동구 왕십리로28길 10 준희빌딩</td>\n",
       "      <td>1층</td>\n",
       "      <td>서울특별시 성동구 왕십리로28길 10 준희빌딩 1층</td>\n",
       "      <td>서울특별시 성동구 왕십리로28길 10</td>\n",
       "      <td>서울특별시 성동구 왕십리로 28길 10 준희빌딩</td>\n",
       "    </tr>\n",
       "    <tr>\n",
       "      <th>4</th>\n",
       "      <td>4</td>\n",
       "      <td>201701</td>\n",
       "      <td>서울</td>\n",
       "      <td>기초</td>\n",
       "      <td>푸드뱅크</td>\n",
       "      <td>종로구푸드뱅크</td>\n",
       "      <td>서울 종로구 숭인1동</td>\n",
       "      <td>55-2 숭인1동주민센터 4층</td>\n",
       "      <td>서울 종로구 숭인1동 55-2 숭인1동주민센터 4층</td>\n",
       "      <td>서울 종로구 숭인1동</td>\n",
       "      <td>서울 종로구 숭인 1동</td>\n",
       "    </tr>\n",
       "  </tbody>\n",
       "</table>\n",
       "</div>"
      ],
      "text/plain": [
       "   Unnamed: 0    기준년월 지역코드 지원센터단위코드 지원센터구분코드       지원센터코드  \\\n",
       "0           0  201701   중앙       전국     푸드뱅크       전국푸드뱅크   \n",
       "1           1  201701   서울       광역     푸드뱅크    서울시광역푸드뱅크   \n",
       "2           2  201701   서울       기초     푸드뱅크  영등포사랑나눔푸드뱅크   \n",
       "3           3  201701   서울       기초     푸드뱅크     성동희망푸드뱅크   \n",
       "4           4  201701   서울       기초     푸드뱅크      종로구푸드뱅크   \n",
       "\n",
       "                      지원센터주소          지원센터상세주소                             주소  \\\n",
       "0          서울특별시 마포구 만리재로 14       한국사회복지회관 4층  서울특별시 마포구 만리재로 14 한국사회복지회관 4층   \n",
       "1                  서울 도봉구 창동               1-7                  서울 도봉구 창동 1-7   \n",
       "2        서울특별시 영등포구 도림로61길 7                 7          서울특별시 영등포구 도림로61길 7 7   \n",
       "3  서울특별시 성동구 왕십리로28길 10 준희빌딩                1층   서울특별시 성동구 왕십리로28길 10 준희빌딩 1층   \n",
       "4                서울 종로구 숭인1동  55-2 숭인1동주민센터 4층   서울 종로구 숭인1동 55-2 숭인1동주민센터 4층   \n",
       "\n",
       "                지원센터주소2                     지원센터주소3  \n",
       "0     서울특별시 마포구 만리재로 14           서울특별시 마포구 만리재로 14  \n",
       "1             서울 도봉구 창동                   서울 도봉구 창동  \n",
       "2   서울특별시 영등포구 도림로61길 7        서울특별시 영등포구 도림로 61길 7  \n",
       "3  서울특별시 성동구 왕십리로28길 10  서울특별시 성동구 왕십리로 28길 10 준희빌딩  \n",
       "4           서울 종로구 숭인1동                서울 종로구 숭인 1동  "
      ]
     },
     "execution_count": 12,
     "metadata": {},
     "output_type": "execute_result"
    }
   ],
   "source": [
    "df_center = pd.read_excel(r\"C:\\Users\\Samsung\\Desktop\\all\\Project\\23_VRPTW\\Data\\Korea\\out\\getSpctrInfo.xlsx\")\n",
    "df_center.head()"
   ]
  },
  {
   "cell_type": "code",
   "execution_count": null,
   "id": "01af7839",
   "metadata": {},
   "outputs": [],
   "source": []
  },
  {
   "cell_type": "code",
   "execution_count": 99,
   "id": "a97e78b0",
   "metadata": {},
   "outputs": [
    {
     "data": {
      "text/html": [
       "<div>\n",
       "<style scoped>\n",
       "    .dataframe tbody tr th:only-of-type {\n",
       "        vertical-align: middle;\n",
       "    }\n",
       "\n",
       "    .dataframe tbody tr th {\n",
       "        vertical-align: top;\n",
       "    }\n",
       "\n",
       "    .dataframe thead th {\n",
       "        text-align: right;\n",
       "    }\n",
       "</style>\n",
       "<table border=\"1\" class=\"dataframe\">\n",
       "  <thead>\n",
       "    <tr style=\"text-align: right;\">\n",
       "      <th></th>\n",
       "      <th>주소</th>\n",
       "      <th>지역코드</th>\n",
       "      <th>지원센터단위코드</th>\n",
       "      <th>지원센터구분코드</th>\n",
       "      <th>지원센터코드</th>\n",
       "    </tr>\n",
       "  </thead>\n",
       "  <tbody>\n",
       "    <tr>\n",
       "      <th>0</th>\n",
       "      <td>전라남도 신안군 압해읍 구항길 92-58</td>\n",
       "      <td>전남</td>\n",
       "      <td>기초</td>\n",
       "      <td>푸드뱅크</td>\n",
       "      <td>1004섬신안기초푸드뱅크</td>\n",
       "    </tr>\n",
       "    <tr>\n",
       "      <th>1</th>\n",
       "      <td>경기도 가평군 가평읍 달전로 44 1층</td>\n",
       "      <td>경기</td>\n",
       "      <td>기초</td>\n",
       "      <td>푸드뱅크</td>\n",
       "      <td>가평군푸드뱅크</td>\n",
       "    </tr>\n",
       "    <tr>\n",
       "      <th>2</th>\n",
       "      <td>경기도 가평군 가평읍 달전로 44 1층(달전리)</td>\n",
       "      <td>경기</td>\n",
       "      <td>기초</td>\n",
       "      <td>푸드뱅크</td>\n",
       "      <td>가평군푸드뱅크</td>\n",
       "    </tr>\n",
       "    <tr>\n",
       "      <th>3</th>\n",
       "      <td>서울특별시 강남구 개포로 605 강남 장애인 문화복지관 강남구기초푸드뱅크</td>\n",
       "      <td>서울</td>\n",
       "      <td>기초</td>\n",
       "      <td>푸드뱅크</td>\n",
       "      <td>강남구기초푸드뱅크</td>\n",
       "    </tr>\n",
       "    <tr>\n",
       "      <th>4</th>\n",
       "      <td>서울특별시 강남구 학동로 426 (삼성동) 강남구청내 강남사랑나눔이동푸드마켓</td>\n",
       "      <td>서울</td>\n",
       "      <td>기초</td>\n",
       "      <td>푸드마켓</td>\n",
       "      <td>강남이동푸드마켓</td>\n",
       "    </tr>\n",
       "    <tr>\n",
       "      <th>...</th>\n",
       "      <td>...</td>\n",
       "      <td>...</td>\n",
       "      <td>...</td>\n",
       "      <td>...</td>\n",
       "      <td>...</td>\n",
       "    </tr>\n",
       "    <tr>\n",
       "      <th>684</th>\n",
       "      <td>강원도 화천군 하남면 춘화로 3341 2층 화천군사회복지협의회</td>\n",
       "      <td>강원</td>\n",
       "      <td>기초</td>\n",
       "      <td>푸드뱅크</td>\n",
       "      <td>화천푸드뱅크</td>\n",
       "    </tr>\n",
       "    <tr>\n",
       "      <th>685</th>\n",
       "      <td>강원도 횡성군 횡성읍 어수로 46</td>\n",
       "      <td>강원</td>\n",
       "      <td>기초</td>\n",
       "      <td>푸드뱅크</td>\n",
       "      <td>횡성군기초푸드뱅크</td>\n",
       "    </tr>\n",
       "    <tr>\n",
       "      <th>686</th>\n",
       "      <td>경상북도 포항시 북구 흥해읍 한동로 43</td>\n",
       "      <td>경북</td>\n",
       "      <td>기초</td>\n",
       "      <td>푸드뱅크</td>\n",
       "      <td>흥해제일기초푸드뱅크</td>\n",
       "    </tr>\n",
       "    <tr>\n",
       "      <th>687</th>\n",
       "      <td>광주광역시 남구 진다리로31 13 (백운동)</td>\n",
       "      <td>광주</td>\n",
       "      <td>기초</td>\n",
       "      <td>푸드뱅크</td>\n",
       "      <td>희망기초푸드뱅크</td>\n",
       "    </tr>\n",
       "    <tr>\n",
       "      <th>688</th>\n",
       "      <td>경기도 성남시 수정구 희망로534 39 (산성동) 1층</td>\n",
       "      <td>경기</td>\n",
       "      <td>기초</td>\n",
       "      <td>푸드뱅크</td>\n",
       "      <td>희망등대푸드뱅크</td>\n",
       "    </tr>\n",
       "  </tbody>\n",
       "</table>\n",
       "<p>689 rows × 5 columns</p>\n",
       "</div>"
      ],
      "text/plain": [
       "                                             주소 지역코드 지원센터단위코드 지원센터구분코드  \\\n",
       "0                       전라남도 신안군 압해읍 구항길 92-58    전남       기초     푸드뱅크   \n",
       "1                         경기도 가평군 가평읍 달전로 44 1층   경기       기초     푸드뱅크   \n",
       "2                    경기도 가평군 가평읍 달전로 44 1층(달전리)   경기       기초     푸드뱅크   \n",
       "3      서울특별시 강남구 개포로 605 강남 장애인 문화복지관 강남구기초푸드뱅크   서울       기초     푸드뱅크   \n",
       "4    서울특별시 강남구 학동로 426 (삼성동) 강남구청내 강남사랑나눔이동푸드마켓   서울       기초     푸드마켓   \n",
       "..                                          ...  ...      ...      ...   \n",
       "684          강원도 화천군 하남면 춘화로 3341 2층 화천군사회복지협의회   강원       기초     푸드뱅크   \n",
       "685                         강원도 횡성군 횡성읍 어수로 46    강원       기초     푸드뱅크   \n",
       "686                     경상북도 포항시 북구 흥해읍 한동로 43    경북       기초     푸드뱅크   \n",
       "687                    광주광역시 남구 진다리로31 13 (백운동)   광주       기초     푸드뱅크   \n",
       "688              경기도 성남시 수정구 희망로534 39 (산성동) 1층   경기       기초     푸드뱅크   \n",
       "\n",
       "            지원센터코드  \n",
       "0    1004섬신안기초푸드뱅크  \n",
       "1          가평군푸드뱅크  \n",
       "2          가평군푸드뱅크  \n",
       "3        강남구기초푸드뱅크  \n",
       "4         강남이동푸드마켓  \n",
       "..             ...  \n",
       "684         화천푸드뱅크  \n",
       "685      횡성군기초푸드뱅크  \n",
       "686     흥해제일기초푸드뱅크  \n",
       "687       희망기초푸드뱅크  \n",
       "688       희망등대푸드뱅크  \n",
       "\n",
       "[689 rows x 5 columns]"
      ]
     },
     "execution_count": 99,
     "metadata": {},
     "output_type": "execute_result"
    }
   ],
   "source": [
    "target_col = [\"지원센터코드\",\"주소\",\"지역코드\",\"지원센터단위코드\",\"지원센터구분코드\"]\n",
    "lambda_ = lambda x: False if x ==\"푸드뱅크\" or x==\"푸드마켓\" else (True)\n",
    "df_list_1 = df_center[df_center[\"지원센터코드\"].map(lambda_)]\n",
    "df_list_1 = df_list_1[target_col].groupby(by=target_col).count()#.unique()\n",
    "df_list_1 = df_list_1.reset_index(level=[0]).reset_index()\n",
    "df_list_1"
   ]
  },
  {
   "cell_type": "code",
   "execution_count": 88,
   "id": "4e048570",
   "metadata": {
    "scrolled": true
   },
   "outputs": [],
   "source": [
    "def query(post):\n",
    "    out_ = df_list_1[df_list_1[\"주소\"]==post].reset_index()#\n",
    "    if len(out_) != 1:\n",
    "        try:\n",
    "            result_ = [\"multi\",out_[\"지원센터코드\"][0]]\n",
    "        except:\n",
    "            result_ = [\"error\",out_[\"지원센터코드\"]]\n",
    "    else:\n",
    "        result_ = [\"pass\",out_[\"지원센터코드\"][0]]\n",
    "    return result_"
   ]
  },
  {
   "cell_type": "code",
   "execution_count": 100,
   "id": "b2890041",
   "metadata": {},
   "outputs": [
    {
     "data": {
      "text/plain": [
       "26453"
      ]
     },
     "execution_count": 100,
     "metadata": {},
     "output_type": "execute_result"
    }
   ],
   "source": [
    "(len(df_center))"
   ]
  },
  {
   "cell_type": "code",
   "execution_count": 101,
   "id": "b7ec6f86",
   "metadata": {},
   "outputs": [
    {
     "data": {
      "text/plain": [
       "26453"
      ]
     },
     "execution_count": 101,
     "metadata": {},
     "output_type": "execute_result"
    }
   ],
   "source": [
    "len(df_list_2)"
   ]
  },
  {
   "cell_type": "code",
   "execution_count": 105,
   "id": "cd5fb41f",
   "metadata": {
    "scrolled": true
   },
   "outputs": [],
   "source": [
    "#lambda_2 = lambda x: True if x==\"푸드뱅크\" or \"푸드마켓\" else (False)\n",
    "df_list_2 = df_center.copy()\n",
    "list_ = df_list_2[\"주소\"].map(lambda x: query(x))"
   ]
  },
  {
   "cell_type": "code",
   "execution_count": 106,
   "id": "14cb77ca",
   "metadata": {},
   "outputs": [],
   "source": [
    "df_list_2[\"지원센터코드2\"] = [i[1] for i in list_]\n",
    "df_list_2[\"estimate\"] = [i[0] for i in list_]"
   ]
  },
  {
   "cell_type": "code",
   "execution_count": 103,
   "id": "efc52a67",
   "metadata": {
    "scrolled": true
   },
   "outputs": [
    {
     "data": {
      "text/plain": [
       "Counter({'전라남도 순천시 중앙1길 30-18 (장천동)': 19,\n",
       "         '경기도 화성시 봉담읍 동화길 174 ': 11,\n",
       "         '대전광역시 대덕구 석봉로57 31 (석봉동)': 6,\n",
       "         '울산광역시 중구 중앙길 199 (학산동)': 17,\n",
       "         '강원도 원주시 일산로82 36 (원동)': 15,\n",
       "         '강원도 원주시 문막읍 동화택지길 9 ': 13,\n",
       "         '부산광역시 동래구 낙민로 25 (낙민동)부산사회복지종합센터 302호': 11,\n",
       "         '부산광역시 서구 대영로85 42 (동대신동2가)': 22,\n",
       "         '부산광역시 북구 덕천로 74 덕천종합사회복지관': 11,\n",
       "         '인천광역시 서구 봉수대로 806 (연희동)': 11,\n",
       "         '광주광역시 북구 군왕로207 6 (각화동)': 11,\n",
       "         '광주광역시 광산구 우산로 17 (우산동, 우산빛여울채)': 11,\n",
       "         '울산광역시 남구 산업로325 34 (선암동)': 11,\n",
       "         '경기도 평택시 원평로28 34 (군문동)': 22,\n",
       "         '경기도 오산시 오산로272 23 2층(오산동)': 11,\n",
       "         '강원도 강릉시 구정면 구정중앙로 158-10 ': 11,\n",
       "         '충청북도 옥천군 옥천읍 삼금로4길 6 1층': 11,\n",
       "         '충청남도 아산시 염치읍 송곡안길 2-23 1층': 11,\n",
       "         '충청남도 태안군 태안읍 시장5길 20 1층': 11,\n",
       "         '전라남도 광양시 광양읍 인덕로 977 2층 1호': 11,\n",
       "         '전라남도 영광군 영광읍 천년로 1351-14 ': 11,\n",
       "         '경상북도 상주시 냉림1길 43-18 (냉림동) 상주시종합사회복지관': 11,\n",
       "         '경상남도 김해시 칠산로 128 (신문동) 경상남도광역기부식품등지원센터': 11,\n",
       "         '경상남도 밀양시 중앙로 218 (삼문동) 밀양시종합사회복지관 지하1층': 11,\n",
       "         '경상북도 경산시 경청로222길 79 경산시노인종합복지관 (백천동)': 11,\n",
       "         '강원 철원군 동송읍 이평로 80': 11,\n",
       "         '인천광역시 미추홀구 장고개로42 30 1층  (도화동)': 11,\n",
       "         '광주광역시 서구 쌍학로 47 (쌍촌동, 영구임대아파트)': 11,\n",
       "         '서울특별시 서대문구 독립문로 50 (냉천동)': 11,\n",
       "         '경기도 김포시 김포대로 1521 (장기동)': 11,\n",
       "         '세종특별자치시 조치원읍 터미널안길 60 6-2호': 22,\n",
       "         '광주광역시 북구 풍동길 20 (풍향동)': 11,\n",
       "         '서울특별시 강북구 한천로148길 12-13 103동 204호 (수유동, 칸타빌 수유팰리스)': 11,\n",
       "         '경기도 평택시 탄현1로 160 , B102호(신장동)': 11,\n",
       "         '충청남도 서천군 서천읍 서천로 10 1층': 22,\n",
       "         '대전광역시 서구 계룡로219 17 1층 대전행복나눔무지개푸드마켓1호점': 11,\n",
       "         '부산광역시 북구 의성로115 11 (덕천동) 북구행복나눔푸드마켓': 11,\n",
       "         '경상북도 포항시 북구 장량로61 5-1 (장성동)': 11,\n",
       "         '경기도 평택시 탄현1로 160 (신장동) B102호': 11,\n",
       "         '대전광역시 유성구 유성대로730 51 (장대동)': 11,\n",
       "         '인천광역시 미추홀구 장고개로42 30 1층 (도화동)': 11,\n",
       "         '인천광역시 연수구 비류대로519 3-2 (선학동) 1층 연수구푸드마켓1호점': 11,\n",
       "         '경기도 안양시 만안구 관악대로 5 지하층 (안양동)': 11,\n",
       "         '서울특별시 마포구 신촌로26길 10 B1호 (노고산동, 우리마포복지관(대흥동주민센터))': 11,\n",
       "         '전라남도 영광군 영광읍 옥당로 149 4층': 11,\n",
       "         '서울특별시 서대문구 세검정로 83 (홍제동)': 5,\n",
       "         '경기도 이천시 경충대로 2602 (중리동)': 11,\n",
       "         '경기도 안산시 단원구 신촌3길 28 (초지동)': 11,\n",
       "         '충청남도 당진시 정안로 16 (원당동)': 11,\n",
       "         '경기도 성남시 수정구 위례순환로 17 (창곡동, 위례31단지) 3109동 에듀센터 1층': 11,\n",
       "         '경기도 구리시 검배로 154 우남상가 102호 (토평동, 우남아파트)': 11,\n",
       "         '부산광역시 기장군 기장읍 차성남로 28 1층 기장푸드마켓': 11,\n",
       "         '서울특별시 강서구 양천로24가길 27 103,104호 (방화동, 오누리빌)': 11,\n",
       "         '대전광역시 대덕구 대전로1032 51 (오정동) 103호': 11,\n",
       "         '강원도 강릉시 구정면 구정중앙로 158-10 2층': 11,\n",
       "         '전라북도 정읍시 서부산업도로 302 (연지동)2층 202호': 11,\n",
       "         '서울특별시 강동구 올림픽로77길 48 (천호동)': 11,\n",
       "         '충청남도 서산시 효행7로 10-3 (동문동)': 11,\n",
       "         '대전광역시 대덕구 석봉로44번안길 14 (석봉동)': 11,\n",
       "         '전라북도 임실군 임실읍 운수로 33-46 ': 11,\n",
       "         '인천광역시 미추홀구 인주대로417 30 (주안동)': 11,\n",
       "         '경기도 안산시 상록구 삼태기1길 37 1층 (이동)': 11,\n",
       "         '대구광역시 서구 국채보상로 399 B동 (비산동)': 8,\n",
       "         '충청남도 예산군 삽교읍 삽교로3길 57 ': 8,\n",
       "         '경기도 화성시 봉담읍 동화길 174 101호': 7,\n",
       "         '서울특별시 강남구 삼성로72길 7 1층 (대치동)': 7,\n",
       "         '충청북도 단양군 단양읍 수변로 83 3층': 3,\n",
       "         '인천광역시 남동구 문화로115 52 102호 (구월동)': 2})"
      ]
     },
     "execution_count": 103,
     "metadata": {},
     "output_type": "execute_result"
    }
   ],
   "source": [
    "Counter(df_list_2[df_list_2[\"estimate\"]==\"error\"][\"주소\"])"
   ]
  },
  {
   "cell_type": "code",
   "execution_count": null,
   "id": "0234d623",
   "metadata": {},
   "outputs": [],
   "source": []
  },
  {
   "cell_type": "markdown",
   "id": "39cbbd46",
   "metadata": {},
   "source": [
    "# Only considering \"경기\""
   ]
  },
  {
   "cell_type": "code",
   "execution_count": null,
   "id": "dd7fe4b4",
   "metadata": {},
   "outputs": [],
   "source": []
  },
  {
   "cell_type": "code",
   "execution_count": null,
   "id": "26b3f872",
   "metadata": {},
   "outputs": [],
   "source": []
  },
  {
   "cell_type": "code",
   "execution_count": 110,
   "id": "b86e70b1",
   "metadata": {
    "scrolled": true
   },
   "outputs": [
    {
     "data": {
      "text/plain": [
       "Counter({'경기도 화성시 봉담읍 동화길 174 ': 11,\n",
       "         '경기도 평택시 원평로28 34 (군문동)': 22,\n",
       "         '경기도 오산시 오산로272 23 2층(오산동)': 11,\n",
       "         '경기도 김포시 김포대로 1521 (장기동)': 11,\n",
       "         '경기도 평택시 탄현1로 160 , B102호(신장동)': 11,\n",
       "         '경기도 평택시 탄현1로 160 (신장동) B102호': 11,\n",
       "         '경기도 안양시 만안구 관악대로 5 지하층 (안양동)': 11,\n",
       "         '경기도 이천시 경충대로 2602 (중리동)': 11,\n",
       "         '경기도 안산시 단원구 신촌3길 28 (초지동)': 11,\n",
       "         '경기도 성남시 수정구 위례순환로 17 (창곡동, 위례31단지) 3109동 에듀센터 1층': 11,\n",
       "         '경기도 구리시 검배로 154 우남상가 102호 (토평동, 우남아파트)': 11,\n",
       "         '경기도 안산시 상록구 삼태기1길 37 1층 (이동)': 11,\n",
       "         '경기도 화성시 봉담읍 동화길 174 101호': 7})"
      ]
     },
     "execution_count": 110,
     "metadata": {},
     "output_type": "execute_result"
    }
   ],
   "source": [
    "a_ = df_list_2[df_list_2[\"지역코드\"]==\"경기\"]\n",
    "Counter(a_[a_[\"estimate\"]==\"error\"][\"주소\"])"
   ]
  },
  {
   "cell_type": "code",
   "execution_count": null,
   "id": "1ffc45cf",
   "metadata": {},
   "outputs": [],
   "source": []
  },
  {
   "cell_type": "code",
   "execution_count": 114,
   "id": "b7222ffa",
   "metadata": {},
   "outputs": [],
   "source": [
    "df_list_1[df_list_1[\"지역코드\"]==\"경기\"].to_excel(r\"C:\\Users\\Samsung\\Desktop\\all\\Project\\23_VRPTW\\Data\\Korea\\out\\경기\\center_list.xlsx\")"
   ]
  },
  {
   "cell_type": "code",
   "execution_count": null,
   "id": "ddc3a757",
   "metadata": {},
   "outputs": [],
   "source": []
  },
  {
   "cell_type": "markdown",
   "id": "c0eace2e",
   "metadata": {},
   "source": [
    "# Extract lon,lat only 경기"
   ]
  },
  {
   "cell_type": "code",
   "execution_count": 120,
   "id": "62fd0da9",
   "metadata": {},
   "outputs": [],
   "source": [
    "geo_local = Nominatim(user_agent='South Korea')\n",
    "\n",
    "def geocoding(address):\n",
    "    try:\n",
    "        geo = geo_local.geocode(address)\n",
    "        x_y = [geo.latitude, geo.longitude]\n",
    "        return x_y\n",
    "\n",
    "    except:\n",
    "        return [0,0]"
   ]
  },
  {
   "cell_type": "code",
   "execution_count": 115,
   "id": "c9c4b226",
   "metadata": {},
   "outputs": [],
   "source": [
    "df_target_1 = pd.read_excel(r\"C:\\Users\\Samsung\\Desktop\\all\\Project\\23_VRPTW\\Data\\Korea\\out\\경기\\center_list_after.xlsx\")"
   ]
  },
  {
   "cell_type": "code",
   "execution_count": 119,
   "id": "93974355",
   "metadata": {
    "scrolled": true
   },
   "outputs": [
    {
     "data": {
      "text/html": [
       "<div>\n",
       "<style scoped>\n",
       "    .dataframe tbody tr th:only-of-type {\n",
       "        vertical-align: middle;\n",
       "    }\n",
       "\n",
       "    .dataframe tbody tr th {\n",
       "        vertical-align: top;\n",
       "    }\n",
       "\n",
       "    .dataframe thead th {\n",
       "        text-align: right;\n",
       "    }\n",
       "</style>\n",
       "<table border=\"1\" class=\"dataframe\">\n",
       "  <thead>\n",
       "    <tr style=\"text-align: right;\">\n",
       "      <th></th>\n",
       "      <th>Unnamed: 0</th>\n",
       "      <th>주소</th>\n",
       "      <th>주소_after</th>\n",
       "      <th>지역코드</th>\n",
       "      <th>지원센터단위코드</th>\n",
       "      <th>지원센터구분코드</th>\n",
       "      <th>지원센터코드</th>\n",
       "      <th>estimate</th>\n",
       "    </tr>\n",
       "  </thead>\n",
       "  <tbody>\n",
       "    <tr>\n",
       "      <th>0</th>\n",
       "      <td>1</td>\n",
       "      <td>경기도 가평군 가평읍 달전로 44 1층</td>\n",
       "      <td>경기도 가평군 가평읍 달전로 44</td>\n",
       "      <td>경기</td>\n",
       "      <td>기초</td>\n",
       "      <td>푸드뱅크</td>\n",
       "      <td>가평군푸드뱅크</td>\n",
       "      <td>NaN</td>\n",
       "    </tr>\n",
       "    <tr>\n",
       "      <th>1</th>\n",
       "      <td>27</td>\n",
       "      <td>경기도 화성시 봉담읍 덕우공단2길 48 덕우리 48-1</td>\n",
       "      <td>경기도 화성시 봉담읍 덕우공단2길 48</td>\n",
       "      <td>경기</td>\n",
       "      <td>광역</td>\n",
       "      <td>푸드뱅크</td>\n",
       "      <td>경기광역기부식품등지원센터남부물류창고_1</td>\n",
       "      <td>NaN</td>\n",
       "    </tr>\n",
       "    <tr>\n",
       "      <th>2</th>\n",
       "      <td>28</td>\n",
       "      <td>경기도 화성시 정남면 괘랑1길 42-30 A동</td>\n",
       "      <td>경기도 화성시 정남면 괘랑1길 42-30</td>\n",
       "      <td>경기</td>\n",
       "      <td>광역</td>\n",
       "      <td>푸드뱅크</td>\n",
       "      <td>경기광역기부식품등지원센터남부물류창고_2</td>\n",
       "      <td>NaN</td>\n",
       "    </tr>\n",
       "    <tr>\n",
       "      <th>3</th>\n",
       "      <td>29</td>\n",
       "      <td>경기도 양주시 칠봉산로 303 (봉양동)</td>\n",
       "      <td>경기도 양주시 칠봉산로 303</td>\n",
       "      <td>경기</td>\n",
       "      <td>광역</td>\n",
       "      <td>푸드뱅크</td>\n",
       "      <td>경기광역기부식품등지원센터북부물류창고_3</td>\n",
       "      <td>NaN</td>\n",
       "    </tr>\n",
       "    <tr>\n",
       "      <th>4</th>\n",
       "      <td>30</td>\n",
       "      <td>경기도 수원시 장안구 서부로 2139 6003,6004호 (율전동, 에스케이허브블루)</td>\n",
       "      <td>경기도 수원시 장안구 서부로 2139</td>\n",
       "      <td>경기</td>\n",
       "      <td>광역</td>\n",
       "      <td>푸드뱅크</td>\n",
       "      <td>경기도광역푸드뱅크_1</td>\n",
       "      <td>NaN</td>\n",
       "    </tr>\n",
       "  </tbody>\n",
       "</table>\n",
       "</div>"
      ],
      "text/plain": [
       "   Unnamed: 0                                               주소  \\\n",
       "0           1                            경기도 가평군 가평읍 달전로 44 1층   \n",
       "1          27                   경기도 화성시 봉담읍 덕우공단2길 48 덕우리 48-1   \n",
       "2          28                        경기도 화성시 정남면 괘랑1길 42-30 A동   \n",
       "3          29                           경기도 양주시 칠봉산로 303 (봉양동)   \n",
       "4          30  경기도 수원시 장안구 서부로 2139 6003,6004호 (율전동, 에스케이허브블루)   \n",
       "\n",
       "                 주소_after 지역코드 지원센터단위코드 지원센터구분코드                 지원센터코드  \\\n",
       "0      경기도 가평군 가평읍 달전로 44   경기       기초     푸드뱅크                가평군푸드뱅크   \n",
       "1   경기도 화성시 봉담읍 덕우공단2길 48   경기       광역     푸드뱅크  경기광역기부식품등지원센터남부물류창고_1   \n",
       "2  경기도 화성시 정남면 괘랑1길 42-30   경기       광역     푸드뱅크  경기광역기부식품등지원센터남부물류창고_2   \n",
       "3        경기도 양주시 칠봉산로 303   경기       광역     푸드뱅크  경기광역기부식품등지원센터북부물류창고_3   \n",
       "4    경기도 수원시 장안구 서부로 2139   경기       광역     푸드뱅크            경기도광역푸드뱅크_1   \n",
       "\n",
       "   estimate  \n",
       "0       NaN  \n",
       "1       NaN  \n",
       "2       NaN  \n",
       "3       NaN  \n",
       "4       NaN  "
      ]
     },
     "execution_count": 119,
     "metadata": {},
     "output_type": "execute_result"
    }
   ],
   "source": [
    "df_target_1.head()"
   ]
  },
  {
   "cell_type": "code",
   "execution_count": 125,
   "id": "e20eed92",
   "metadata": {},
   "outputs": [
    {
     "data": {
      "application/vnd.jupyter.widget-view+json": {
       "model_id": "edf8abf65c104df88a8d0b08b9dd38f2",
       "version_major": 2,
       "version_minor": 0
      },
      "text/plain": [
       "  0%|          | 0/140 [00:00<?, ?it/s]"
      ]
     },
     "metadata": {},
     "output_type": "display_data"
    }
   ],
   "source": [
    "tq = tqdm(range(len(df_target_1)))\n",
    "lat_lng_list = []\n",
    "for i in tq:\n",
    "    lat_lng_list.append(geocoding(df_target_1[\"주소_after\"][i]))"
   ]
  },
  {
   "cell_type": "code",
   "execution_count": 126,
   "id": "07e19cee",
   "metadata": {},
   "outputs": [],
   "source": [
    "df_target_1[\"lat_lng\"] = lat_lng_list\n",
    "df_target_1[\"lat\"] = [i[0] for i in lat_lng_list]\n",
    "df_target_1[\"lng\"] = [i[1] for i in lat_lng_list]"
   ]
  },
  {
   "cell_type": "code",
   "execution_count": 127,
   "id": "563b3666",
   "metadata": {
    "scrolled": true
   },
   "outputs": [
    {
     "data": {
      "text/html": [
       "<div>\n",
       "<style scoped>\n",
       "    .dataframe tbody tr th:only-of-type {\n",
       "        vertical-align: middle;\n",
       "    }\n",
       "\n",
       "    .dataframe tbody tr th {\n",
       "        vertical-align: top;\n",
       "    }\n",
       "\n",
       "    .dataframe thead th {\n",
       "        text-align: right;\n",
       "    }\n",
       "</style>\n",
       "<table border=\"1\" class=\"dataframe\">\n",
       "  <thead>\n",
       "    <tr style=\"text-align: right;\">\n",
       "      <th></th>\n",
       "      <th>Unnamed: 0</th>\n",
       "      <th>주소</th>\n",
       "      <th>주소_after</th>\n",
       "      <th>지역코드</th>\n",
       "      <th>지원센터단위코드</th>\n",
       "      <th>지원센터구분코드</th>\n",
       "      <th>지원센터코드</th>\n",
       "      <th>estimate</th>\n",
       "      <th>lat_lng</th>\n",
       "      <th>lat</th>\n",
       "      <th>lng</th>\n",
       "    </tr>\n",
       "  </thead>\n",
       "  <tbody>\n",
       "    <tr>\n",
       "      <th>0</th>\n",
       "      <td>1</td>\n",
       "      <td>경기도 가평군 가평읍 달전로 44 1층</td>\n",
       "      <td>경기도 가평군 가평읍 달전로 44</td>\n",
       "      <td>경기</td>\n",
       "      <td>기초</td>\n",
       "      <td>푸드뱅크</td>\n",
       "      <td>가평군푸드뱅크</td>\n",
       "      <td>NaN</td>\n",
       "      <td>[37.8152203, 127.517003]</td>\n",
       "      <td>37.815220</td>\n",
       "      <td>127.517003</td>\n",
       "    </tr>\n",
       "    <tr>\n",
       "      <th>1</th>\n",
       "      <td>27</td>\n",
       "      <td>경기도 화성시 봉담읍 덕우공단2길 48 덕우리 48-1</td>\n",
       "      <td>경기도 화성시 봉담읍 덕우공단2길 48</td>\n",
       "      <td>경기</td>\n",
       "      <td>광역</td>\n",
       "      <td>푸드뱅크</td>\n",
       "      <td>경기광역기부식품등지원센터남부물류창고_1</td>\n",
       "      <td>NaN</td>\n",
       "      <td>[0, 0]</td>\n",
       "      <td>0.000000</td>\n",
       "      <td>0.000000</td>\n",
       "    </tr>\n",
       "    <tr>\n",
       "      <th>2</th>\n",
       "      <td>28</td>\n",
       "      <td>경기도 화성시 정남면 괘랑1길 42-30 A동</td>\n",
       "      <td>경기도 화성시 정남면 괘랑1길 42-30</td>\n",
       "      <td>경기</td>\n",
       "      <td>광역</td>\n",
       "      <td>푸드뱅크</td>\n",
       "      <td>경기광역기부식품등지원센터남부물류창고_2</td>\n",
       "      <td>NaN</td>\n",
       "      <td>[0, 0]</td>\n",
       "      <td>0.000000</td>\n",
       "      <td>0.000000</td>\n",
       "    </tr>\n",
       "    <tr>\n",
       "      <th>3</th>\n",
       "      <td>29</td>\n",
       "      <td>경기도 양주시 칠봉산로 303 (봉양동)</td>\n",
       "      <td>경기도 양주시 칠봉산로 303</td>\n",
       "      <td>경기</td>\n",
       "      <td>광역</td>\n",
       "      <td>푸드뱅크</td>\n",
       "      <td>경기광역기부식품등지원센터북부물류창고_3</td>\n",
       "      <td>NaN</td>\n",
       "      <td>[37.8653252, 127.0642794]</td>\n",
       "      <td>37.865325</td>\n",
       "      <td>127.064279</td>\n",
       "    </tr>\n",
       "    <tr>\n",
       "      <th>4</th>\n",
       "      <td>30</td>\n",
       "      <td>경기도 수원시 장안구 서부로 2139 6003,6004호 (율전동, 에스케이허브블루)</td>\n",
       "      <td>경기도 수원시 장안구 서부로 2139</td>\n",
       "      <td>경기</td>\n",
       "      <td>광역</td>\n",
       "      <td>푸드뱅크</td>\n",
       "      <td>경기도광역푸드뱅크_1</td>\n",
       "      <td>NaN</td>\n",
       "      <td>[37.3179173, 126.9852447]</td>\n",
       "      <td>37.317917</td>\n",
       "      <td>126.985245</td>\n",
       "    </tr>\n",
       "  </tbody>\n",
       "</table>\n",
       "</div>"
      ],
      "text/plain": [
       "   Unnamed: 0                                               주소  \\\n",
       "0           1                            경기도 가평군 가평읍 달전로 44 1층   \n",
       "1          27                   경기도 화성시 봉담읍 덕우공단2길 48 덕우리 48-1   \n",
       "2          28                        경기도 화성시 정남면 괘랑1길 42-30 A동   \n",
       "3          29                           경기도 양주시 칠봉산로 303 (봉양동)   \n",
       "4          30  경기도 수원시 장안구 서부로 2139 6003,6004호 (율전동, 에스케이허브블루)   \n",
       "\n",
       "                 주소_after 지역코드 지원센터단위코드 지원센터구분코드                 지원센터코드  \\\n",
       "0      경기도 가평군 가평읍 달전로 44   경기       기초     푸드뱅크                가평군푸드뱅크   \n",
       "1   경기도 화성시 봉담읍 덕우공단2길 48   경기       광역     푸드뱅크  경기광역기부식품등지원센터남부물류창고_1   \n",
       "2  경기도 화성시 정남면 괘랑1길 42-30   경기       광역     푸드뱅크  경기광역기부식품등지원센터남부물류창고_2   \n",
       "3        경기도 양주시 칠봉산로 303   경기       광역     푸드뱅크  경기광역기부식품등지원센터북부물류창고_3   \n",
       "4    경기도 수원시 장안구 서부로 2139   경기       광역     푸드뱅크            경기도광역푸드뱅크_1   \n",
       "\n",
       "   estimate                    lat_lng        lat         lng  \n",
       "0       NaN   [37.8152203, 127.517003]  37.815220  127.517003  \n",
       "1       NaN                     [0, 0]   0.000000    0.000000  \n",
       "2       NaN                     [0, 0]   0.000000    0.000000  \n",
       "3       NaN  [37.8653252, 127.0642794]  37.865325  127.064279  \n",
       "4       NaN  [37.3179173, 126.9852447]  37.317917  126.985245  "
      ]
     },
     "execution_count": 127,
     "metadata": {},
     "output_type": "execute_result"
    }
   ],
   "source": [
    "df_target_1.head()"
   ]
  },
  {
   "cell_type": "code",
   "execution_count": 129,
   "id": "8e63cd9b",
   "metadata": {
    "scrolled": true
   },
   "outputs": [
    {
     "name": "stdout",
     "output_type": "stream",
     "text": [
      "경기도 화성시 봉담읍 덕우공단2길 48\n",
      "경기도 화성시 정남면 괘랑1길 42-30\n",
      "경기도 광명시 소하로 88\n",
      "경기도 광주시 고불로 40-11\n",
      "경기도 군포시 오금로 102\n",
      "경기도 안양시 만안구 장내로 75 42\n",
      "경기도 용인시 처인구 이동면 백옥대로 624 2-7 \n",
      "경기도 김포시 북변중로 65 4-8\n",
      "경기도 김포시 하성면 봉성로 159 71-5\n",
      "경기도 양평군 청운면 백동길 1-3\n",
      "경기 남양주시 화도읍 마석우리 79\n",
      "경기도 남양주시 화도읍 경춘로달뫼1길 20-8\n",
      "경기도 광주시 곤지암읍 곤지암로11 8\n",
      "경기 동두천시 광암동 518-1\n",
      "경기도 동두천시 광암로6 2\n",
      "경기도 화성시 병점중앙로10 10\n",
      "경기도 부천시 원미로 235\n",
      "경기도 부천시 신흥로275 19\n",
      "경기도 부천시 신흥로275 19\n",
      "경기도 화성시 서신면 수풀오얏길 65-11\n",
      "경기도 시흥시 봉우재로51 3\n",
      "경기도 이천시 경충대로2638 35\n",
      "경기 안성시 공도읍 진사리 진사길 79-17\n",
      "경기도 평택시 안중읍 안중로8 23-11\n",
      "경기도 성남시 중원구 성남대로1151 20-7\n",
      "경기도 성남시 분당구 미금로 246\n",
      "경기도 성남시 분당구 탄천로 215\n",
      "경기도 이천시 마장면 작촌로 24-23 \n",
      "경기도 포천시 소흘읍 송우로132 56\n",
      "경기 수원시 권선구 탑동 869-9\n",
      "경기도 수원시 권선구 효탑로 24-17\n",
      "경기도 수원시 장안구 장안로63 8\n",
      "경기도 광명시 광삼로 9\n",
      "경기도 광명시 금하로527 12\n",
      "경기도 시흥시 오동마을로45 7\n",
      "경기도 시흥시 신천로79 26\n",
      "경기도 용인시 처인구 금령로71 8\n",
      "경기도 안산시 상록구 충장로6안길 16\n",
      "경기도 안산시 단원구 화정로안길 53\n",
      "경기도 안산시 상록구 원당골3길 6-1\n",
      "경기도 안산시 단원구 예술1길 6\n",
      "경기도 안산시 단원구 예술대학로5길 33\n",
      "경기도 안성시 죽산면 죽주로 292-22\n",
      "경기도 안성시 중앙로451 11\n",
      "경기도 안성시 일죽면 금일로 93\n",
      "경기 안양시 만안구 안양2동 688-54\n",
      "경기도 안양시 만안구 안양로360 26\n",
      "경기도 안양시 만안구 장내로 113\n",
      "경기 양주시 광적면 가납리 848-2\n",
      "경기도 양주시 외미로64 35\n",
      "경기도 양평군 용문면 용문역길 67 \n",
      "경기도 여주시 가남읍 자유그린길 37\n",
      "경기도 여주시 가남읍 태평2길 13 \n",
      "경기도 연천군 전곡읍 전곡로40 1 \n",
      "경기도 수원시 영통구 매봉로35 23-15\n",
      "경기도 수원시 영통구 매여울로40 41\n",
      "경기도 용인시 기흥구 신갈로84 5-17\n",
      "경기도 용인시 기흥구 마북로247 92\n",
      "경기도 이천시 서희로71 14\n",
      "경기도 화성시 장안면 노진길 117-4\n",
      "경기도 의왕시 효행로 46\n",
      "경기도 의정부시 용민로92 12\n",
      "경기도 의정부시 추동로108 90\n",
      "경기도 의정부시 경의로 192 708-2\n",
      "경기도 의정부시 용민로92 12\n",
      "경기 이천시 부발읍 신원리 561-20\n",
      "경기도 이천시 부발읍 신원로 18\n",
      "경기도 파주시 파주읍 봉서산로 138 \n",
      "경기도 수원시 권선구 새터로47 88\n",
      "경기도 평택시 점촌로32 53 \n",
      "경기 평택시 신대동 1-11\n",
      "경기도 포천시 신북면 중앙로207 23\n",
      "경기도 하남시 덕풍로81 18\n",
      "경기도 하남시 역말로 71\n",
      "경기도 화성시 여울로2길 33\n",
      "경기 화성시 향남읍 행정중앙1로 30\n",
      "경기도 화성시 향남읍 행정서로3길 50\n",
      "경기도 화성시 향남읍 행정서로3길 50\n",
      "경기도 화성시 향남읍 행정중앙1로 30\n",
      "경기도 화성시 남여울3길 9-10\n",
      "경기도 화성시 봉담읍 독정길 30\n",
      "경기도 성남시 수정구 희망로534 39\n"
     ]
    }
   ],
   "source": [
    "for i in df_target_1[df_target_1[\"lat\"]==0][\"주소_after\"]:\n",
    "    print(i)"
   ]
  },
  {
   "cell_type": "code",
   "execution_count": 140,
   "id": "f6b139fd",
   "metadata": {},
   "outputs": [
    {
     "data": {
      "text/plain": [
       "[0, 0]"
      ]
     },
     "execution_count": 140,
     "metadata": {},
     "output_type": "execute_result"
    }
   ],
   "source": [
    "geocoding(\"경기도 화성시 봉담읍 덕우리\")"
   ]
  },
  {
   "cell_type": "markdown",
   "id": "301d5a30",
   "metadata": {},
   "source": [
    "# 아래의 사이트로 그냥 cralwer를 만드는게 빠를듯하다"
   ]
  },
  {
   "cell_type": "code",
   "execution_count": 141,
   "id": "b9c4325f",
   "metadata": {},
   "outputs": [
    {
     "data": {
      "text/plain": [
       "'https://address.dawul.co.kr/'"
      ]
     },
     "execution_count": 141,
     "metadata": {},
     "output_type": "execute_result"
    }
   ],
   "source": [
    "\"https://address.dawul.co.kr/\""
   ]
  },
  {
   "cell_type": "code",
   "execution_count": null,
   "id": "0b144937",
   "metadata": {},
   "outputs": [],
   "source": []
  }
 ],
 "metadata": {
  "kernelspec": {
   "display_name": "Python 3 (ipykernel)",
   "language": "python",
   "name": "python3"
  },
  "language_info": {
   "codemirror_mode": {
    "name": "ipython",
    "version": 3
   },
   "file_extension": ".py",
   "mimetype": "text/x-python",
   "name": "python",
   "nbconvert_exporter": "python",
   "pygments_lexer": "ipython3",
   "version": "3.11.3"
  }
 },
 "nbformat": 4,
 "nbformat_minor": 5
}
